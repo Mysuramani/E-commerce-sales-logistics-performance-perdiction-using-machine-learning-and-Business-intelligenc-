{
 "cells": [
  {
   "cell_type": "markdown",
   "id": "a6959e0e",
   "metadata": {},
   "source": [
    " Importing the library\n"
   ]
  },
  {
   "cell_type": "code",
   "execution_count": 189,
   "id": "67238246",
   "metadata": {},
   "outputs": [],
   "source": [
    "import numpy as np\n",
    "import pandas as pd\n",
    "import matplotlib.pyplot as plt \n",
    "from matplotlib import pyplot as plt\n",
    "import seaborn as sns\n",
    "import warnings\n",
    "from operator import attrgetter\n",
    "import datetime as dt\n",
    "import matplotlib.colors as mcolors\n",
    "from IPython.display import display\n",
    "from lazypredict.Supervised import LazyRegressor\n",
    "from sklearn.utils import shuffle\n",
    "from sklearn.cluster import KMeans\n",
    "from sklearn.preprocessing import PolynomialFeatures\n",
    "from sklearn.metrics import mean_squared_error, r2_score\n",
    "import psycopg2\n",
    "from sklearn.decomposition import PCA\n",
    "from sklearn.preprocessing import LabelEncoder, StandardScaler, MinMaxScaler\n",
    "from sklearn.model_selection import train_test_split\n",
    "from sklearn.neighbors import KNeighborsRegressor\n",
    "from sklearn.ensemble import AdaBoostRegressor\n",
    "from sklearn.ensemble import BaggingRegressor\n",
    "from sklearn.ensemble import GradientBoostingRegressor \n",
    "from sklearn.tree import DecisionTreeRegressor\n",
    "from sklearn.linear_model import LinearRegression\n",
    "from sklearn import metrics\n",
    "from sklearn.metrics import mean_squared_error\n",
    "from math import sqrt\n",
    "from sklearn.metrics import mean_absolute_error\n",
    "\n",
    "\n",
    "warnings.filterwarnings(\"ignore\")\n",
    "%matplotlib inline\n",
    "\n"
   ]
  },
  {
   "cell_type": "code",
   "execution_count": 3,
   "id": "4c987f8f",
   "metadata": {},
   "outputs": [
    {
     "name": "stdout",
     "output_type": "stream",
     "text": [
      "Requirement already satisfied: sqlalchemy in d:\\anaconda\\lib\\site-packages (1.4.22)\n",
      "Requirement already satisfied: greenlet!=0.4.17 in d:\\anaconda\\lib\\site-packages (from sqlalchemy) (1.1.1)\n",
      "Note: you may need to restart the kernel to use updated packages.\n"
     ]
    }
   ],
   "source": [
    "\n",
    "pip install sqlalchemy\n"
   ]
  },
  {
   "cell_type": "code",
   "execution_count": 5,
   "id": "e1ef2ff4",
   "metadata": {},
   "outputs": [
    {
     "name": "stdout",
     "output_type": "stream",
     "text": [
      "Requirement already satisfied: psycopg2 in d:\\anaconda\\lib\\site-packages (2.9.3)\n",
      "Note: you may need to restart the kernel to use updated packages.\n"
     ]
    }
   ],
   "source": [
    "pip install psycopg2"
   ]
  },
  {
   "cell_type": "code",
   "execution_count": 6,
   "id": "6f4d0e7a",
   "metadata": {},
   "outputs": [
    {
     "name": "stdout",
     "output_type": "stream",
     "text": [
      "Requirement already satisfied: ipython-sql in d:\\anaconda\\lib\\site-packages (0.4.0)\n",
      "Requirement already satisfied: ipython-genutils>=0.1.0 in d:\\anaconda\\lib\\site-packages (from ipython-sql) (0.2.0)\n",
      "Requirement already satisfied: sqlalchemy>=0.6.7 in d:\\anaconda\\lib\\site-packages (from ipython-sql) (1.4.22)\n",
      "Requirement already satisfied: ipython>=1.0 in d:\\anaconda\\lib\\site-packages (from ipython-sql) (7.29.0)\n",
      "Requirement already satisfied: prettytable<1 in d:\\anaconda\\lib\\site-packages (from ipython-sql) (0.7.2)\n",
      "Requirement already satisfied: sqlparse in d:\\anaconda\\lib\\site-packages (from ipython-sql) (0.4.2)\n",
      "Requirement already satisfied: six in d:\\anaconda\\lib\\site-packages (from ipython-sql) (1.16.0)\n",
      "Requirement already satisfied: colorama in d:\\anaconda\\lib\\site-packages (from ipython>=1.0->ipython-sql) (0.4.4)\n",
      "Requirement already satisfied: setuptools>=18.5 in d:\\anaconda\\lib\\site-packages (from ipython>=1.0->ipython-sql) (58.0.4)\n",
      "Requirement already satisfied: pickleshare in d:\\anaconda\\lib\\site-packages (from ipython>=1.0->ipython-sql) (0.7.5)\n",
      "Requirement already satisfied: prompt-toolkit!=3.0.0,!=3.0.1,<3.1.0,>=2.0.0 in d:\\anaconda\\lib\\site-packages (from ipython>=1.0->ipython-sql) (3.0.20)\n",
      "Requirement already satisfied: matplotlib-inline in d:\\anaconda\\lib\\site-packages (from ipython>=1.0->ipython-sql) (0.1.2)\n",
      "Requirement already satisfied: decorator in d:\\anaconda\\lib\\site-packages (from ipython>=1.0->ipython-sql) (5.1.0)\n",
      "Requirement already satisfied: traitlets>=4.2 in d:\\anaconda\\lib\\site-packages (from ipython>=1.0->ipython-sql) (5.1.0)\n",
      "Requirement already satisfied: jedi>=0.16 in d:\\anaconda\\lib\\site-packages (from ipython>=1.0->ipython-sql) (0.18.0)\n",
      "Requirement already satisfied: pygments in d:\\anaconda\\lib\\site-packages (from ipython>=1.0->ipython-sql) (2.10.0)\n",
      "Requirement already satisfied: backcall in d:\\anaconda\\lib\\site-packages (from ipython>=1.0->ipython-sql) (0.2.0)\n",
      "Requirement already satisfied: parso<0.9.0,>=0.8.0 in d:\\anaconda\\lib\\site-packages (from jedi>=0.16->ipython>=1.0->ipython-sql) (0.8.2)\n",
      "Requirement already satisfied: wcwidth in d:\\anaconda\\lib\\site-packages (from prompt-toolkit!=3.0.0,!=3.0.1,<3.1.0,>=2.0.0->ipython>=1.0->ipython-sql) (0.2.5)\n",
      "Requirement already satisfied: greenlet!=0.4.17 in d:\\anaconda\\lib\\site-packages (from sqlalchemy>=0.6.7->ipython-sql) (1.1.1)\n",
      "Note: you may need to restart the kernel to use updated packages.\n"
     ]
    }
   ],
   "source": [
    "pip install ipython-sql"
   ]
  },
  {
   "cell_type": "markdown",
   "id": "20569c72",
   "metadata": {},
   "source": [
    "Loading data from SQL"
   ]
  },
  {
   "cell_type": "code",
   "execution_count": 7,
   "id": "7d2f458d",
   "metadata": {},
   "outputs": [],
   "source": [
    "%load_ext sql\n"
   ]
  },
  {
   "cell_type": "code",
   "execution_count": 8,
   "id": "87e59f26",
   "metadata": {},
   "outputs": [],
   "source": [
    "import psycopg2\n",
    "hostname='localhost'\n",
    "database='ECOM'\n",
    "username='postgres'\n",
    "pwd='123'\n",
    "port_id=5432\n",
    "conn=None\n",
    "cur=None\n",
    "try: \n",
    "    conn=psycopg2.connect(\n",
    "        host=hostname,\n",
    "        dbname=database,\n",
    "        user=username,\n",
    "        password=pwd,\n",
    "        port=port_id)\n",
    "    cur=conn.cursor()\n",
    "    cur.execute('SELECT * FROM data')\n",
    "    cur.fetchall()\n",
    "    conn.commit()\n",
    "\n",
    "except Exception as error:\n",
    "    print(error)\n",
    "    \n",
    "    "
   ]
  },
  {
   "cell_type": "code",
   "execution_count": 9,
   "id": "ff9ae9fd",
   "metadata": {},
   "outputs": [],
   "source": [
    "cur.execute('SELECT * FROM data')\n",
    "cur.fetchall()\n",
    "conn.commit()"
   ]
  },
  {
   "cell_type": "code",
   "execution_count": 10,
   "id": "3aa67dd0",
   "metadata": {},
   "outputs": [
    {
     "data": {
      "text/html": [
       "<div>\n",
       "<style scoped>\n",
       "    .dataframe tbody tr th:only-of-type {\n",
       "        vertical-align: middle;\n",
       "    }\n",
       "\n",
       "    .dataframe tbody tr th {\n",
       "        vertical-align: top;\n",
       "    }\n",
       "\n",
       "    .dataframe thead th {\n",
       "        text-align: right;\n",
       "    }\n",
       "</style>\n",
       "<table border=\"1\" class=\"dataframe\">\n",
       "  <thead>\n",
       "    <tr style=\"text-align: right;\">\n",
       "      <th></th>\n",
       "      <th>InvoiceNo</th>\n",
       "      <th>StockCode</th>\n",
       "      <th>Description</th>\n",
       "      <th>Quantity</th>\n",
       "      <th>InvoiceDate</th>\n",
       "      <th>UnitPrice</th>\n",
       "      <th>CustomerID</th>\n",
       "      <th>Country</th>\n",
       "      <th>requested_days</th>\n",
       "      <th>delivered_days</th>\n",
       "    </tr>\n",
       "  </thead>\n",
       "  <tbody>\n",
       "    <tr>\n",
       "      <th>0</th>\n",
       "      <td>536367</td>\n",
       "      <td>84879</td>\n",
       "      <td>ASSORTED COLOUR BIRD ORNAMENT</td>\n",
       "      <td>32</td>\n",
       "      <td>12-01-2010 08:34</td>\n",
       "      <td>1.69</td>\n",
       "      <td>13047</td>\n",
       "      <td>United Kingdom</td>\n",
       "      <td>2</td>\n",
       "      <td>2</td>\n",
       "    </tr>\n",
       "    <tr>\n",
       "      <th>1</th>\n",
       "      <td>536367</td>\n",
       "      <td>22745</td>\n",
       "      <td>POPPY'S PLAYHOUSE BEDROOM</td>\n",
       "      <td>6</td>\n",
       "      <td>12-01-2010 08:34</td>\n",
       "      <td>2.10</td>\n",
       "      <td>13047</td>\n",
       "      <td>United Kingdom</td>\n",
       "      <td>0</td>\n",
       "      <td>7</td>\n",
       "    </tr>\n",
       "    <tr>\n",
       "      <th>2</th>\n",
       "      <td>536367</td>\n",
       "      <td>22748</td>\n",
       "      <td>POPPY'S PLAYHOUSE KITCHEN</td>\n",
       "      <td>6</td>\n",
       "      <td>12-01-2010 08:34</td>\n",
       "      <td>2.10</td>\n",
       "      <td>13047</td>\n",
       "      <td>United Kingdom</td>\n",
       "      <td>1</td>\n",
       "      <td>5</td>\n",
       "    </tr>\n",
       "    <tr>\n",
       "      <th>3</th>\n",
       "      <td>536667</td>\n",
       "      <td>79321</td>\n",
       "      <td>CHILLI LIGHTS</td>\n",
       "      <td>4</td>\n",
       "      <td>12-02-2010 12:09</td>\n",
       "      <td>4.95</td>\n",
       "      <td>15260</td>\n",
       "      <td>United Kingdom</td>\n",
       "      <td>3</td>\n",
       "      <td>3</td>\n",
       "    </tr>\n",
       "    <tr>\n",
       "      <th>4</th>\n",
       "      <td>536367</td>\n",
       "      <td>22749</td>\n",
       "      <td>FELTCRAFT PRINCESS CHARLOTTE DOLL</td>\n",
       "      <td>8</td>\n",
       "      <td>12-01-2010 08:34</td>\n",
       "      <td>3.75</td>\n",
       "      <td>13047</td>\n",
       "      <td>United Kingdom</td>\n",
       "      <td>5</td>\n",
       "      <td>3</td>\n",
       "    </tr>\n",
       "    <tr>\n",
       "      <th>...</th>\n",
       "      <td>...</td>\n",
       "      <td>...</td>\n",
       "      <td>...</td>\n",
       "      <td>...</td>\n",
       "      <td>...</td>\n",
       "      <td>...</td>\n",
       "      <td>...</td>\n",
       "      <td>...</td>\n",
       "      <td>...</td>\n",
       "      <td>...</td>\n",
       "    </tr>\n",
       "    <tr>\n",
       "      <th>541904</th>\n",
       "      <td>581587</td>\n",
       "      <td>22613</td>\n",
       "      <td>PACK OF 20 SPACEBOY NAPKINS</td>\n",
       "      <td>12</td>\n",
       "      <td>12-09-2011 12:50</td>\n",
       "      <td>0.85</td>\n",
       "      <td>12680</td>\n",
       "      <td>France</td>\n",
       "      <td>3</td>\n",
       "      <td>3</td>\n",
       "    </tr>\n",
       "    <tr>\n",
       "      <th>541905</th>\n",
       "      <td>581587</td>\n",
       "      <td>22899</td>\n",
       "      <td>CHILDREN'S APRON DOLLY GIRL</td>\n",
       "      <td>6</td>\n",
       "      <td>12-09-2011 12:50</td>\n",
       "      <td>2.10</td>\n",
       "      <td>12680</td>\n",
       "      <td>France</td>\n",
       "      <td>4</td>\n",
       "      <td>2</td>\n",
       "    </tr>\n",
       "    <tr>\n",
       "      <th>541906</th>\n",
       "      <td>581587</td>\n",
       "      <td>23254</td>\n",
       "      <td>CHILDRENS CUTLERY DOLLY GIRL</td>\n",
       "      <td>4</td>\n",
       "      <td>12-09-2011 12:50</td>\n",
       "      <td>4.15</td>\n",
       "      <td>12680</td>\n",
       "      <td>France</td>\n",
       "      <td>3</td>\n",
       "      <td>7</td>\n",
       "    </tr>\n",
       "    <tr>\n",
       "      <th>541907</th>\n",
       "      <td>581587</td>\n",
       "      <td>23255</td>\n",
       "      <td>CHILDRENS CUTLERY CIRCUS PARADE</td>\n",
       "      <td>4</td>\n",
       "      <td>12-09-2011 12:50</td>\n",
       "      <td>4.15</td>\n",
       "      <td>12680</td>\n",
       "      <td>France</td>\n",
       "      <td>4</td>\n",
       "      <td>6</td>\n",
       "    </tr>\n",
       "    <tr>\n",
       "      <th>541908</th>\n",
       "      <td>581587</td>\n",
       "      <td>22138</td>\n",
       "      <td>BAKING SET 9 PIECE RETROSPOT</td>\n",
       "      <td>3</td>\n",
       "      <td>12-09-2011 12:50</td>\n",
       "      <td>4.95</td>\n",
       "      <td>12680</td>\n",
       "      <td>France</td>\n",
       "      <td>2</td>\n",
       "      <td>3</td>\n",
       "    </tr>\n",
       "  </tbody>\n",
       "</table>\n",
       "<p>541909 rows × 10 columns</p>\n",
       "</div>"
      ],
      "text/plain": [
       "       InvoiceNo StockCode                        Description  Quantity  \\\n",
       "0         536367     84879      ASSORTED COLOUR BIRD ORNAMENT        32   \n",
       "1         536367     22745         POPPY'S PLAYHOUSE BEDROOM          6   \n",
       "2         536367     22748          POPPY'S PLAYHOUSE KITCHEN         6   \n",
       "3         536667     79321                      CHILLI LIGHTS         4   \n",
       "4         536367     22749  FELTCRAFT PRINCESS CHARLOTTE DOLL         8   \n",
       "...          ...       ...                                ...       ...   \n",
       "541904    581587     22613        PACK OF 20 SPACEBOY NAPKINS        12   \n",
       "541905    581587     22899       CHILDREN'S APRON DOLLY GIRL          6   \n",
       "541906    581587     23254      CHILDRENS CUTLERY DOLLY GIRL          4   \n",
       "541907    581587     23255    CHILDRENS CUTLERY CIRCUS PARADE         4   \n",
       "541908    581587     22138      BAKING SET 9 PIECE RETROSPOT          3   \n",
       "\n",
       "             InvoiceDate  UnitPrice CustomerID         Country  \\\n",
       "0       12-01-2010 08:34       1.69      13047  United Kingdom   \n",
       "1       12-01-2010 08:34       2.10      13047  United Kingdom   \n",
       "2       12-01-2010 08:34       2.10      13047  United Kingdom   \n",
       "3       12-02-2010 12:09       4.95      15260  United Kingdom   \n",
       "4       12-01-2010 08:34       3.75      13047  United Kingdom   \n",
       "...                  ...        ...        ...             ...   \n",
       "541904  12-09-2011 12:50       0.85      12680          France   \n",
       "541905  12-09-2011 12:50       2.10      12680          France   \n",
       "541906  12-09-2011 12:50       4.15      12680          France   \n",
       "541907  12-09-2011 12:50       4.15      12680          France   \n",
       "541908  12-09-2011 12:50       4.95      12680          France   \n",
       "\n",
       "        requested_days  delivered_days  \n",
       "0                    2               2  \n",
       "1                    0               7  \n",
       "2                    1               5  \n",
       "3                    3               3  \n",
       "4                    5               3  \n",
       "...                ...             ...  \n",
       "541904               3               3  \n",
       "541905               4               2  \n",
       "541906               3               7  \n",
       "541907               4               6  \n",
       "541908               2               3  \n",
       "\n",
       "[541909 rows x 10 columns]"
      ]
     },
     "execution_count": 10,
     "metadata": {},
     "output_type": "execute_result"
    }
   ],
   "source": [
    "\n",
    "data=pd.read_sql('SELECT * FROM DATA',conn)\n",
    "data"
   ]
  },
  {
   "cell_type": "markdown",
   "id": "d144611f",
   "metadata": {},
   "source": [
    " Data Preprocessing"
   ]
  },
  {
   "cell_type": "code",
   "execution_count": 11,
   "id": "1a933659",
   "metadata": {},
   "outputs": [
    {
     "data": {
      "text/plain": [
       "InvoiceNo              0\n",
       "StockCode              0\n",
       "Description         1454\n",
       "Quantity               0\n",
       "InvoiceDate            0\n",
       "UnitPrice              0\n",
       "CustomerID        135080\n",
       "Country                0\n",
       "requested_days         0\n",
       "delivered_days         0\n",
       "dtype: int64"
      ]
     },
     "execution_count": 11,
     "metadata": {},
     "output_type": "execute_result"
    }
   ],
   "source": [
    "\n",
    "#1. Checking Null values\n",
    "data.isnull().sum()"
   ]
  },
  {
   "cell_type": "code",
   "execution_count": 12,
   "id": "3d34e02a",
   "metadata": {},
   "outputs": [],
   "source": [
    "# deleting Description Name which is having nullvalues\n",
    "data.dropna(subset=['Description'],how='any',inplace= True)\n"
   ]
  },
  {
   "cell_type": "code",
   "execution_count": 13,
   "id": "7dace5db",
   "metadata": {},
   "outputs": [],
   "source": [
    "data['CustomerID'] = pd.to_numeric(data['CustomerID'], errors='coerce')\n",
    "data[\"CustomerID\"] = data[\"CustomerID\"].fillna(value=data[\"CustomerID\"].mean())\n"
   ]
  },
  {
   "cell_type": "code",
   "execution_count": 14,
   "id": "71ebe8c3",
   "metadata": {},
   "outputs": [
    {
     "data": {
      "text/plain": [
       "InvoiceNo          object\n",
       "StockCode          object\n",
       "Description        object\n",
       "Quantity            int64\n",
       "InvoiceDate        object\n",
       "UnitPrice         float64\n",
       "CustomerID        float64\n",
       "Country            object\n",
       "requested_days      int64\n",
       "delivered_days      int64\n",
       "dtype: object"
      ]
     },
     "execution_count": 14,
     "metadata": {},
     "output_type": "execute_result"
    }
   ],
   "source": [
    "# checking the type of dataset \n",
    "data.dtypes"
   ]
  },
  {
   "cell_type": "code",
   "execution_count": 15,
   "id": "8a5139f2",
   "metadata": {},
   "outputs": [
    {
     "data": {
      "text/plain": [
       "InvoiceNo         0\n",
       "StockCode         0\n",
       "Description       0\n",
       "Quantity          0\n",
       "InvoiceDate       0\n",
       "UnitPrice         0\n",
       "CustomerID        0\n",
       "Country           0\n",
       "requested_days    0\n",
       "delivered_days    0\n",
       "dtype: int64"
      ]
     },
     "execution_count": 15,
     "metadata": {},
     "output_type": "execute_result"
    }
   ],
   "source": [
    "data['InvoiceNo']=data.InvoiceNo.astype(str).str.replace('C', '')\n",
    "data['InvoiceNo']=data.InvoiceNo.astype(str).str.replace('A', '')\n",
    "data.drop(data.index[data['Country'] == 'Unspecified'], inplace=True)\n",
    "data['InvoiceDate']=pd.to_datetime(data[\"InvoiceDate\"])\n",
    "data['InvoiceNo']=data['InvoiceNo'].astype(int)\n",
    "data['CustomerID']=data['CustomerID'].astype(float)\n",
    "data['Quantity']=data['Quantity'].astype(float)\n",
    "data['Quantity'] = data[data['Quantity'] > 0]['Quantity']\n",
    "data['Quantity'] = data['Quantity'].replace(np.nan, 0)\n",
    "\n",
    "data.isnull().sum()"
   ]
  },
  {
   "cell_type": "code",
   "execution_count": 16,
   "id": "4058d250",
   "metadata": {},
   "outputs": [
    {
     "data": {
      "text/plain": [
       "InvoiceNo                  int32\n",
       "StockCode                 object\n",
       "Description               object\n",
       "Quantity                 float64\n",
       "InvoiceDate       datetime64[ns]\n",
       "UnitPrice                float64\n",
       "CustomerID               float64\n",
       "Country                   object\n",
       "requested_days             int64\n",
       "delivered_days             int64\n",
       "dtype: object"
      ]
     },
     "execution_count": 16,
     "metadata": {},
     "output_type": "execute_result"
    }
   ],
   "source": [
    "data.dtypes"
   ]
  },
  {
   "cell_type": "code",
   "execution_count": 17,
   "id": "d3dedda7",
   "metadata": {},
   "outputs": [
    {
     "data": {
      "text/plain": [
       "InvoiceNo         0\n",
       "StockCode         0\n",
       "Description       0\n",
       "Quantity          0\n",
       "InvoiceDate       0\n",
       "UnitPrice         0\n",
       "CustomerID        0\n",
       "Country           0\n",
       "requested_days    0\n",
       "delivered_days    0\n",
       "TotalPrice        0\n",
       "dtype: int64"
      ]
     },
     "execution_count": 17,
     "metadata": {},
     "output_type": "execute_result"
    }
   ],
   "source": [
    "##adding one more column as total price\n",
    "data['TotalPrice'] = data['UnitPrice'] * data['Quantity']\n",
    "\n",
    "data.isnull().sum()"
   ]
  },
  {
   "cell_type": "code",
   "execution_count": 18,
   "id": "6a64d11d",
   "metadata": {},
   "outputs": [
    {
     "data": {
      "image/png": "[encoded data removed]",
      "text/plain": [
       "<Figure size 432x288 with 1 Axes>"
      ]
     },
     "metadata": {
      "needs_background": "light"
     },
     "output_type": "display_data"
    },
    {
     "data": {
      "image/png": "[encoded data removed]",
      "text/plain": [
       "<Figure size 432x288 with 1 Axes>"
      ]
     },
     "metadata": {
      "needs_background": "light"
     },
     "output_type": "display_data"
    },
    {
     "data": {
      "image/png": "[encoded data removed]",
      "text/plain": [
       "<Figure size 432x288 with 1 Axes>"
      ]
     },
     "metadata": {
      "needs_background": "light"
     },
     "output_type": "display_data"
    },
    {
     "data": {
      "image/png": "[encoded data removed]",
      "text/plain": [
       "<Figure size 432x288 with 1 Axes>"
      ]
     },
     "metadata": {
      "needs_background": "light"
     },
     "output_type": "display_data"
    },
    {
     "data": {
      "image/png": "[encoded data removed]",
      "text/plain": [
       "<Figure size 432x288 with 1 Axes>"
      ]
     },
     "metadata": {
      "needs_background": "light"
     },
     "output_type": "display_data"
    },
    {
     "data": {
      "image/png": "[encoded data removed]",
      "text/plain": [
       "<Figure size 432x288 with 1 Axes>"
      ]
     },
     "metadata": {
      "needs_background": "light"
     },
     "output_type": "display_data"
    },
    {
     "data": {
      "image/png": "[encoded data removed]",
      "text/plain": [
       "<Figure size 432x288 with 1 Axes>"
      ]
     },
     "metadata": {
      "needs_background": "light"
     },
     "output_type": "display_data"
    }
   ],
   "source": [
    "#checking for outliers\n",
    "#checking for outliers\n",
    "for column in data._get_numeric_data():\n",
    "    plt.figure()\n",
    "    data.boxplot([column])\n"
   ]
  },
  {
   "cell_type": "code",
   "execution_count": 19,
   "id": "e097fd3e",
   "metadata": {
    "scrolled": true
   },
   "outputs": [
    {
     "data": {
      "text/html": [
       "<div>\n",
       "<style scoped>\n",
       "    .dataframe tbody tr th:only-of-type {\n",
       "        vertical-align: middle;\n",
       "    }\n",
       "\n",
       "    .dataframe tbody tr th {\n",
       "        vertical-align: top;\n",
       "    }\n",
       "\n",
       "    .dataframe thead th {\n",
       "        text-align: right;\n",
       "    }\n",
       "</style>\n",
       "<table border=\"1\" class=\"dataframe\">\n",
       "  <thead>\n",
       "    <tr style=\"text-align: right;\">\n",
       "      <th></th>\n",
       "      <th>InvoiceNo</th>\n",
       "      <th>StockCode</th>\n",
       "      <th>Description</th>\n",
       "      <th>Quantity</th>\n",
       "      <th>InvoiceDate</th>\n",
       "      <th>UnitPrice</th>\n",
       "      <th>CustomerID</th>\n",
       "      <th>Country</th>\n",
       "      <th>requested_days</th>\n",
       "      <th>delivered_days</th>\n",
       "      <th>TotalPrice</th>\n",
       "    </tr>\n",
       "  </thead>\n",
       "  <tbody>\n",
       "    <tr>\n",
       "      <th>0</th>\n",
       "      <td>536367</td>\n",
       "      <td>84879</td>\n",
       "      <td>ASSORTED COLOUR BIRD ORNAMENT</td>\n",
       "      <td>32.0</td>\n",
       "      <td>2010-12-01 08:34:00</td>\n",
       "      <td>1.69</td>\n",
       "      <td>13047.0</td>\n",
       "      <td>United Kingdom</td>\n",
       "      <td>2</td>\n",
       "      <td>2</td>\n",
       "      <td>54.08</td>\n",
       "    </tr>\n",
       "    <tr>\n",
       "      <th>1</th>\n",
       "      <td>536367</td>\n",
       "      <td>22745</td>\n",
       "      <td>POPPY'S PLAYHOUSE BEDROOM</td>\n",
       "      <td>6.0</td>\n",
       "      <td>2010-12-01 08:34:00</td>\n",
       "      <td>2.10</td>\n",
       "      <td>13047.0</td>\n",
       "      <td>United Kingdom</td>\n",
       "      <td>0</td>\n",
       "      <td>7</td>\n",
       "      <td>12.60</td>\n",
       "    </tr>\n",
       "    <tr>\n",
       "      <th>2</th>\n",
       "      <td>536367</td>\n",
       "      <td>22748</td>\n",
       "      <td>POPPY'S PLAYHOUSE KITCHEN</td>\n",
       "      <td>6.0</td>\n",
       "      <td>2010-12-01 08:34:00</td>\n",
       "      <td>2.10</td>\n",
       "      <td>13047.0</td>\n",
       "      <td>United Kingdom</td>\n",
       "      <td>1</td>\n",
       "      <td>5</td>\n",
       "      <td>12.60</td>\n",
       "    </tr>\n",
       "    <tr>\n",
       "      <th>3</th>\n",
       "      <td>536667</td>\n",
       "      <td>79321</td>\n",
       "      <td>CHILLI LIGHTS</td>\n",
       "      <td>4.0</td>\n",
       "      <td>2010-12-02 12:09:00</td>\n",
       "      <td>4.95</td>\n",
       "      <td>15260.0</td>\n",
       "      <td>United Kingdom</td>\n",
       "      <td>3</td>\n",
       "      <td>3</td>\n",
       "      <td>19.80</td>\n",
       "    </tr>\n",
       "    <tr>\n",
       "      <th>4</th>\n",
       "      <td>536367</td>\n",
       "      <td>22749</td>\n",
       "      <td>FELTCRAFT PRINCESS CHARLOTTE DOLL</td>\n",
       "      <td>8.0</td>\n",
       "      <td>2010-12-01 08:34:00</td>\n",
       "      <td>3.75</td>\n",
       "      <td>13047.0</td>\n",
       "      <td>United Kingdom</td>\n",
       "      <td>5</td>\n",
       "      <td>3</td>\n",
       "      <td>30.00</td>\n",
       "    </tr>\n",
       "    <tr>\n",
       "      <th>...</th>\n",
       "      <td>...</td>\n",
       "      <td>...</td>\n",
       "      <td>...</td>\n",
       "      <td>...</td>\n",
       "      <td>...</td>\n",
       "      <td>...</td>\n",
       "      <td>...</td>\n",
       "      <td>...</td>\n",
       "      <td>...</td>\n",
       "      <td>...</td>\n",
       "      <td>...</td>\n",
       "    </tr>\n",
       "    <tr>\n",
       "      <th>541904</th>\n",
       "      <td>581587</td>\n",
       "      <td>22613</td>\n",
       "      <td>PACK OF 20 SPACEBOY NAPKINS</td>\n",
       "      <td>12.0</td>\n",
       "      <td>2011-12-09 12:50:00</td>\n",
       "      <td>0.85</td>\n",
       "      <td>12680.0</td>\n",
       "      <td>France</td>\n",
       "      <td>3</td>\n",
       "      <td>3</td>\n",
       "      <td>10.20</td>\n",
       "    </tr>\n",
       "    <tr>\n",
       "      <th>541905</th>\n",
       "      <td>581587</td>\n",
       "      <td>22899</td>\n",
       "      <td>CHILDREN'S APRON DOLLY GIRL</td>\n",
       "      <td>6.0</td>\n",
       "      <td>2011-12-09 12:50:00</td>\n",
       "      <td>2.10</td>\n",
       "      <td>12680.0</td>\n",
       "      <td>France</td>\n",
       "      <td>4</td>\n",
       "      <td>2</td>\n",
       "      <td>12.60</td>\n",
       "    </tr>\n",
       "    <tr>\n",
       "      <th>541906</th>\n",
       "      <td>581587</td>\n",
       "      <td>23254</td>\n",
       "      <td>CHILDRENS CUTLERY DOLLY GIRL</td>\n",
       "      <td>4.0</td>\n",
       "      <td>2011-12-09 12:50:00</td>\n",
       "      <td>4.15</td>\n",
       "      <td>12680.0</td>\n",
       "      <td>France</td>\n",
       "      <td>3</td>\n",
       "      <td>7</td>\n",
       "      <td>16.60</td>\n",
       "    </tr>\n",
       "    <tr>\n",
       "      <th>541907</th>\n",
       "      <td>581587</td>\n",
       "      <td>23255</td>\n",
       "      <td>CHILDRENS CUTLERY CIRCUS PARADE</td>\n",
       "      <td>4.0</td>\n",
       "      <td>2011-12-09 12:50:00</td>\n",
       "      <td>4.15</td>\n",
       "      <td>12680.0</td>\n",
       "      <td>France</td>\n",
       "      <td>4</td>\n",
       "      <td>6</td>\n",
       "      <td>16.60</td>\n",
       "    </tr>\n",
       "    <tr>\n",
       "      <th>541908</th>\n",
       "      <td>581587</td>\n",
       "      <td>22138</td>\n",
       "      <td>BAKING SET 9 PIECE RETROSPOT</td>\n",
       "      <td>3.0</td>\n",
       "      <td>2011-12-09 12:50:00</td>\n",
       "      <td>4.95</td>\n",
       "      <td>12680.0</td>\n",
       "      <td>France</td>\n",
       "      <td>2</td>\n",
       "      <td>3</td>\n",
       "      <td>14.85</td>\n",
       "    </tr>\n",
       "  </tbody>\n",
       "</table>\n",
       "<p>540009 rows × 11 columns</p>\n",
       "</div>"
      ],
      "text/plain": [
       "        InvoiceNo StockCode                        Description  Quantity  \\\n",
       "0          536367     84879      ASSORTED COLOUR BIRD ORNAMENT      32.0   \n",
       "1          536367     22745         POPPY'S PLAYHOUSE BEDROOM        6.0   \n",
       "2          536367     22748          POPPY'S PLAYHOUSE KITCHEN       6.0   \n",
       "3          536667     79321                      CHILLI LIGHTS       4.0   \n",
       "4          536367     22749  FELTCRAFT PRINCESS CHARLOTTE DOLL       8.0   \n",
       "...           ...       ...                                ...       ...   \n",
       "541904     581587     22613        PACK OF 20 SPACEBOY NAPKINS      12.0   \n",
       "541905     581587     22899       CHILDREN'S APRON DOLLY GIRL        6.0   \n",
       "541906     581587     23254      CHILDRENS CUTLERY DOLLY GIRL        4.0   \n",
       "541907     581587     23255    CHILDRENS CUTLERY CIRCUS PARADE       4.0   \n",
       "541908     581587     22138      BAKING SET 9 PIECE RETROSPOT        3.0   \n",
       "\n",
       "               InvoiceDate  UnitPrice  CustomerID         Country  \\\n",
       "0      2010-12-01 08:34:00       1.69     13047.0  United Kingdom   \n",
       "1      2010-12-01 08:34:00       2.10     13047.0  United Kingdom   \n",
       "2      2010-12-01 08:34:00       2.10     13047.0  United Kingdom   \n",
       "3      2010-12-02 12:09:00       4.95     15260.0  United Kingdom   \n",
       "4      2010-12-01 08:34:00       3.75     13047.0  United Kingdom   \n",
       "...                    ...        ...         ...             ...   \n",
       "541904 2011-12-09 12:50:00       0.85     12680.0          France   \n",
       "541905 2011-12-09 12:50:00       2.10     12680.0          France   \n",
       "541906 2011-12-09 12:50:00       4.15     12680.0          France   \n",
       "541907 2011-12-09 12:50:00       4.15     12680.0          France   \n",
       "541908 2011-12-09 12:50:00       4.95     12680.0          France   \n",
       "\n",
       "        requested_days  delivered_days  TotalPrice  \n",
       "0                    2               2       54.08  \n",
       "1                    0               7       12.60  \n",
       "2                    1               5       12.60  \n",
       "3                    3               3       19.80  \n",
       "4                    5               3       30.00  \n",
       "...                ...             ...         ...  \n",
       "541904               3               3       10.20  \n",
       "541905               4               2       12.60  \n",
       "541906               3               7       16.60  \n",
       "541907               4               6       16.60  \n",
       "541908               2               3       14.85  \n",
       "\n",
       "[540009 rows x 11 columns]"
      ]
     },
     "execution_count": 19,
     "metadata": {},
     "output_type": "execute_result"
    }
   ],
   "source": [
    "data"
   ]
  },
  {
   "cell_type": "code",
   "execution_count": 20,
   "id": "b8dca0d0",
   "metadata": {},
   "outputs": [
    {
     "data": {
      "text/plain": [
       "InvoiceNo                         0\n",
       "StockCode                         0\n",
       "Description                       0\n",
       "Quantity                          0\n",
       "InvoiceDate                       0\n",
       "UnitPrice                         0\n",
       "CustomerID                        0\n",
       "Country                           0\n",
       "requested_days                    0\n",
       "delivered_days                    0\n",
       "TotalPrice                        0\n",
       "logistic_performance_indicator    0\n",
       "dtype: int64"
      ]
     },
     "execution_count": 20,
     "metadata": {},
     "output_type": "execute_result"
    }
   ],
   "source": [
    "\n",
    "data['logistic_performance_indicator']=data['requested_days']/data['delivered_days']*100\n",
    "data.dropna(subset=['logistic_performance_indicator'],how='any',inplace= True)\n",
    "\n",
    "# Replace infinite updated data with nan\n",
    "data.replace([np.inf, -np.inf], np.nan, inplace=True)\n",
    "# Drop rows with NaN\n",
    "data.dropna(inplace=True)\n",
    "(data)\n",
    "\n",
    "\n",
    "data.isnull().sum()"
   ]
  },
  {
   "cell_type": "code",
   "execution_count": 21,
   "id": "8592cd8e",
   "metadata": {},
   "outputs": [
    {
     "data": {
      "text/html": [
       "<div>\n",
       "<style scoped>\n",
       "    .dataframe tbody tr th:only-of-type {\n",
       "        vertical-align: middle;\n",
       "    }\n",
       "\n",
       "    .dataframe tbody tr th {\n",
       "        vertical-align: top;\n",
       "    }\n",
       "\n",
       "    .dataframe thead th {\n",
       "        text-align: right;\n",
       "    }\n",
       "</style>\n",
       "<table border=\"1\" class=\"dataframe\">\n",
       "  <thead>\n",
       "    <tr style=\"text-align: right;\">\n",
       "      <th></th>\n",
       "      <th>InvoiceNo</th>\n",
       "      <th>StockCode</th>\n",
       "      <th>Description</th>\n",
       "      <th>Quantity</th>\n",
       "      <th>InvoiceDate</th>\n",
       "      <th>UnitPrice</th>\n",
       "      <th>CustomerID</th>\n",
       "      <th>Country</th>\n",
       "      <th>requested_days</th>\n",
       "      <th>delivered_days</th>\n",
       "      <th>TotalPrice</th>\n",
       "      <th>logistic_performance_indicator</th>\n",
       "    </tr>\n",
       "  </thead>\n",
       "  <tbody>\n",
       "    <tr>\n",
       "      <th>0</th>\n",
       "      <td>536367</td>\n",
       "      <td>84879</td>\n",
       "      <td>ASSORTED COLOUR BIRD ORNAMENT</td>\n",
       "      <td>32.0</td>\n",
       "      <td>2010-12-01 08:34:00</td>\n",
       "      <td>1.69</td>\n",
       "      <td>13047.0</td>\n",
       "      <td>United Kingdom</td>\n",
       "      <td>2</td>\n",
       "      <td>2</td>\n",
       "      <td>54.08</td>\n",
       "      <td>100.000000</td>\n",
       "    </tr>\n",
       "    <tr>\n",
       "      <th>1</th>\n",
       "      <td>536367</td>\n",
       "      <td>22745</td>\n",
       "      <td>POPPY'S PLAYHOUSE BEDROOM</td>\n",
       "      <td>6.0</td>\n",
       "      <td>2010-12-01 08:34:00</td>\n",
       "      <td>2.10</td>\n",
       "      <td>13047.0</td>\n",
       "      <td>United Kingdom</td>\n",
       "      <td>0</td>\n",
       "      <td>7</td>\n",
       "      <td>12.60</td>\n",
       "      <td>0.000000</td>\n",
       "    </tr>\n",
       "    <tr>\n",
       "      <th>2</th>\n",
       "      <td>536367</td>\n",
       "      <td>22748</td>\n",
       "      <td>POPPY'S PLAYHOUSE KITCHEN</td>\n",
       "      <td>6.0</td>\n",
       "      <td>2010-12-01 08:34:00</td>\n",
       "      <td>2.10</td>\n",
       "      <td>13047.0</td>\n",
       "      <td>United Kingdom</td>\n",
       "      <td>1</td>\n",
       "      <td>5</td>\n",
       "      <td>12.60</td>\n",
       "      <td>20.000000</td>\n",
       "    </tr>\n",
       "    <tr>\n",
       "      <th>3</th>\n",
       "      <td>536667</td>\n",
       "      <td>79321</td>\n",
       "      <td>CHILLI LIGHTS</td>\n",
       "      <td>4.0</td>\n",
       "      <td>2010-12-02 12:09:00</td>\n",
       "      <td>4.95</td>\n",
       "      <td>15260.0</td>\n",
       "      <td>United Kingdom</td>\n",
       "      <td>3</td>\n",
       "      <td>3</td>\n",
       "      <td>19.80</td>\n",
       "      <td>100.000000</td>\n",
       "    </tr>\n",
       "    <tr>\n",
       "      <th>4</th>\n",
       "      <td>536367</td>\n",
       "      <td>22749</td>\n",
       "      <td>FELTCRAFT PRINCESS CHARLOTTE DOLL</td>\n",
       "      <td>8.0</td>\n",
       "      <td>2010-12-01 08:34:00</td>\n",
       "      <td>3.75</td>\n",
       "      <td>13047.0</td>\n",
       "      <td>United Kingdom</td>\n",
       "      <td>5</td>\n",
       "      <td>3</td>\n",
       "      <td>30.00</td>\n",
       "      <td>166.666667</td>\n",
       "    </tr>\n",
       "    <tr>\n",
       "      <th>...</th>\n",
       "      <td>...</td>\n",
       "      <td>...</td>\n",
       "      <td>...</td>\n",
       "      <td>...</td>\n",
       "      <td>...</td>\n",
       "      <td>...</td>\n",
       "      <td>...</td>\n",
       "      <td>...</td>\n",
       "      <td>...</td>\n",
       "      <td>...</td>\n",
       "      <td>...</td>\n",
       "      <td>...</td>\n",
       "    </tr>\n",
       "    <tr>\n",
       "      <th>541904</th>\n",
       "      <td>581587</td>\n",
       "      <td>22613</td>\n",
       "      <td>PACK OF 20 SPACEBOY NAPKINS</td>\n",
       "      <td>12.0</td>\n",
       "      <td>2011-12-09 12:50:00</td>\n",
       "      <td>0.85</td>\n",
       "      <td>12680.0</td>\n",
       "      <td>France</td>\n",
       "      <td>3</td>\n",
       "      <td>3</td>\n",
       "      <td>10.20</td>\n",
       "      <td>100.000000</td>\n",
       "    </tr>\n",
       "    <tr>\n",
       "      <th>541905</th>\n",
       "      <td>581587</td>\n",
       "      <td>22899</td>\n",
       "      <td>CHILDREN'S APRON DOLLY GIRL</td>\n",
       "      <td>6.0</td>\n",
       "      <td>2011-12-09 12:50:00</td>\n",
       "      <td>2.10</td>\n",
       "      <td>12680.0</td>\n",
       "      <td>France</td>\n",
       "      <td>4</td>\n",
       "      <td>2</td>\n",
       "      <td>12.60</td>\n",
       "      <td>200.000000</td>\n",
       "    </tr>\n",
       "    <tr>\n",
       "      <th>541906</th>\n",
       "      <td>581587</td>\n",
       "      <td>23254</td>\n",
       "      <td>CHILDRENS CUTLERY DOLLY GIRL</td>\n",
       "      <td>4.0</td>\n",
       "      <td>2011-12-09 12:50:00</td>\n",
       "      <td>4.15</td>\n",
       "      <td>12680.0</td>\n",
       "      <td>France</td>\n",
       "      <td>3</td>\n",
       "      <td>7</td>\n",
       "      <td>16.60</td>\n",
       "      <td>42.857143</td>\n",
       "    </tr>\n",
       "    <tr>\n",
       "      <th>541907</th>\n",
       "      <td>581587</td>\n",
       "      <td>23255</td>\n",
       "      <td>CHILDRENS CUTLERY CIRCUS PARADE</td>\n",
       "      <td>4.0</td>\n",
       "      <td>2011-12-09 12:50:00</td>\n",
       "      <td>4.15</td>\n",
       "      <td>12680.0</td>\n",
       "      <td>France</td>\n",
       "      <td>4</td>\n",
       "      <td>6</td>\n",
       "      <td>16.60</td>\n",
       "      <td>66.666667</td>\n",
       "    </tr>\n",
       "    <tr>\n",
       "      <th>541908</th>\n",
       "      <td>581587</td>\n",
       "      <td>22138</td>\n",
       "      <td>BAKING SET 9 PIECE RETROSPOT</td>\n",
       "      <td>3.0</td>\n",
       "      <td>2011-12-09 12:50:00</td>\n",
       "      <td>4.95</td>\n",
       "      <td>12680.0</td>\n",
       "      <td>France</td>\n",
       "      <td>2</td>\n",
       "      <td>3</td>\n",
       "      <td>14.85</td>\n",
       "      <td>66.666667</td>\n",
       "    </tr>\n",
       "  </tbody>\n",
       "</table>\n",
       "<p>479751 rows × 12 columns</p>\n",
       "</div>"
      ],
      "text/plain": [
       "        InvoiceNo StockCode                        Description  Quantity  \\\n",
       "0          536367     84879      ASSORTED COLOUR BIRD ORNAMENT      32.0   \n",
       "1          536367     22745         POPPY'S PLAYHOUSE BEDROOM        6.0   \n",
       "2          536367     22748          POPPY'S PLAYHOUSE KITCHEN       6.0   \n",
       "3          536667     79321                      CHILLI LIGHTS       4.0   \n",
       "4          536367     22749  FELTCRAFT PRINCESS CHARLOTTE DOLL       8.0   \n",
       "...           ...       ...                                ...       ...   \n",
       "541904     581587     22613        PACK OF 20 SPACEBOY NAPKINS      12.0   \n",
       "541905     581587     22899       CHILDREN'S APRON DOLLY GIRL        6.0   \n",
       "541906     581587     23254      CHILDRENS CUTLERY DOLLY GIRL        4.0   \n",
       "541907     581587     23255    CHILDRENS CUTLERY CIRCUS PARADE       4.0   \n",
       "541908     581587     22138      BAKING SET 9 PIECE RETROSPOT        3.0   \n",
       "\n",
       "               InvoiceDate  UnitPrice  CustomerID         Country  \\\n",
       "0      2010-12-01 08:34:00       1.69     13047.0  United Kingdom   \n",
       "1      2010-12-01 08:34:00       2.10     13047.0  United Kingdom   \n",
       "2      2010-12-01 08:34:00       2.10     13047.0  United Kingdom   \n",
       "3      2010-12-02 12:09:00       4.95     15260.0  United Kingdom   \n",
       "4      2010-12-01 08:34:00       3.75     13047.0  United Kingdom   \n",
       "...                    ...        ...         ...             ...   \n",
       "541904 2011-12-09 12:50:00       0.85     12680.0          France   \n",
       "541905 2011-12-09 12:50:00       2.10     12680.0          France   \n",
       "541906 2011-12-09 12:50:00       4.15     12680.0          France   \n",
       "541907 2011-12-09 12:50:00       4.15     12680.0          France   \n",
       "541908 2011-12-09 12:50:00       4.95     12680.0          France   \n",
       "\n",
       "        requested_days  delivered_days  TotalPrice  \\\n",
       "0                    2               2       54.08   \n",
       "1                    0               7       12.60   \n",
       "2                    1               5       12.60   \n",
       "3                    3               3       19.80   \n",
       "4                    5               3       30.00   \n",
       "...                ...             ...         ...   \n",
       "541904               3               3       10.20   \n",
       "541905               4               2       12.60   \n",
       "541906               3               7       16.60   \n",
       "541907               4               6       16.60   \n",
       "541908               2               3       14.85   \n",
       "\n",
       "        logistic_performance_indicator  \n",
       "0                           100.000000  \n",
       "1                             0.000000  \n",
       "2                            20.000000  \n",
       "3                           100.000000  \n",
       "4                           166.666667  \n",
       "...                                ...  \n",
       "541904                      100.000000  \n",
       "541905                      200.000000  \n",
       "541906                       42.857143  \n",
       "541907                       66.666667  \n",
       "541908                       66.666667  \n",
       "\n",
       "[479751 rows x 12 columns]"
      ]
     },
     "execution_count": 21,
     "metadata": {},
     "output_type": "execute_result"
    }
   ],
   "source": [
    "data"
   ]
  },
  {
   "cell_type": "code",
   "execution_count": 22,
   "id": "42f4cea5",
   "metadata": {},
   "outputs": [],
   "source": [
    "data.to_csv('finaldata_python.csv') \n"
   ]
  },
  {
   "cell_type": "code",
   "execution_count": 23,
   "id": "4b45685e",
   "metadata": {},
   "outputs": [
    {
     "data": {
      "text/html": [
       "<div>\n",
       "<style scoped>\n",
       "    .dataframe tbody tr th:only-of-type {\n",
       "        vertical-align: middle;\n",
       "    }\n",
       "\n",
       "    .dataframe tbody tr th {\n",
       "        vertical-align: top;\n",
       "    }\n",
       "\n",
       "    .dataframe thead th {\n",
       "        text-align: right;\n",
       "    }\n",
       "</style>\n",
       "<table border=\"1\" class=\"dataframe\">\n",
       "  <thead>\n",
       "    <tr style=\"text-align: right;\">\n",
       "      <th></th>\n",
       "      <th>InvoiceNo</th>\n",
       "      <th>StockCode</th>\n",
       "      <th>Description</th>\n",
       "      <th>Quantity</th>\n",
       "      <th>InvoiceDate</th>\n",
       "      <th>UnitPrice</th>\n",
       "      <th>CustomerID</th>\n",
       "      <th>Country</th>\n",
       "      <th>requested_days</th>\n",
       "      <th>delivered_days</th>\n",
       "      <th>TotalPrice</th>\n",
       "      <th>logistic_performance_indicator</th>\n",
       "      <th>Year</th>\n",
       "      <th>Month</th>\n",
       "    </tr>\n",
       "  </thead>\n",
       "  <tbody>\n",
       "    <tr>\n",
       "      <th>0</th>\n",
       "      <td>536367</td>\n",
       "      <td>84879</td>\n",
       "      <td>ASSORTED COLOUR BIRD ORNAMENT</td>\n",
       "      <td>32.0</td>\n",
       "      <td>2010-12-01 08:34:00</td>\n",
       "      <td>1.69</td>\n",
       "      <td>13047</td>\n",
       "      <td>United Kingdom</td>\n",
       "      <td>2</td>\n",
       "      <td>2</td>\n",
       "      <td>54.08</td>\n",
       "      <td>100.000000</td>\n",
       "      <td>2010</td>\n",
       "      <td>12</td>\n",
       "    </tr>\n",
       "    <tr>\n",
       "      <th>1</th>\n",
       "      <td>536367</td>\n",
       "      <td>22745</td>\n",
       "      <td>POPPY'S PLAYHOUSE BEDROOM</td>\n",
       "      <td>6.0</td>\n",
       "      <td>2010-12-01 08:34:00</td>\n",
       "      <td>2.10</td>\n",
       "      <td>13047</td>\n",
       "      <td>United Kingdom</td>\n",
       "      <td>0</td>\n",
       "      <td>7</td>\n",
       "      <td>12.60</td>\n",
       "      <td>0.000000</td>\n",
       "      <td>2010</td>\n",
       "      <td>12</td>\n",
       "    </tr>\n",
       "    <tr>\n",
       "      <th>2</th>\n",
       "      <td>536367</td>\n",
       "      <td>22748</td>\n",
       "      <td>POPPY'S PLAYHOUSE KITCHEN</td>\n",
       "      <td>6.0</td>\n",
       "      <td>2010-12-01 08:34:00</td>\n",
       "      <td>2.10</td>\n",
       "      <td>13047</td>\n",
       "      <td>United Kingdom</td>\n",
       "      <td>1</td>\n",
       "      <td>5</td>\n",
       "      <td>12.60</td>\n",
       "      <td>20.000000</td>\n",
       "      <td>2010</td>\n",
       "      <td>12</td>\n",
       "    </tr>\n",
       "    <tr>\n",
       "      <th>3</th>\n",
       "      <td>536667</td>\n",
       "      <td>79321</td>\n",
       "      <td>CHILLI LIGHTS</td>\n",
       "      <td>4.0</td>\n",
       "      <td>2010-12-02 12:09:00</td>\n",
       "      <td>4.95</td>\n",
       "      <td>15260</td>\n",
       "      <td>United Kingdom</td>\n",
       "      <td>3</td>\n",
       "      <td>3</td>\n",
       "      <td>19.80</td>\n",
       "      <td>100.000000</td>\n",
       "      <td>2010</td>\n",
       "      <td>12</td>\n",
       "    </tr>\n",
       "    <tr>\n",
       "      <th>4</th>\n",
       "      <td>536367</td>\n",
       "      <td>22749</td>\n",
       "      <td>FELTCRAFT PRINCESS CHARLOTTE DOLL</td>\n",
       "      <td>8.0</td>\n",
       "      <td>2010-12-01 08:34:00</td>\n",
       "      <td>3.75</td>\n",
       "      <td>13047</td>\n",
       "      <td>United Kingdom</td>\n",
       "      <td>5</td>\n",
       "      <td>3</td>\n",
       "      <td>30.00</td>\n",
       "      <td>166.666667</td>\n",
       "      <td>2010</td>\n",
       "      <td>12</td>\n",
       "    </tr>\n",
       "    <tr>\n",
       "      <th>...</th>\n",
       "      <td>...</td>\n",
       "      <td>...</td>\n",
       "      <td>...</td>\n",
       "      <td>...</td>\n",
       "      <td>...</td>\n",
       "      <td>...</td>\n",
       "      <td>...</td>\n",
       "      <td>...</td>\n",
       "      <td>...</td>\n",
       "      <td>...</td>\n",
       "      <td>...</td>\n",
       "      <td>...</td>\n",
       "      <td>...</td>\n",
       "      <td>...</td>\n",
       "    </tr>\n",
       "    <tr>\n",
       "      <th>479746</th>\n",
       "      <td>581587</td>\n",
       "      <td>22613</td>\n",
       "      <td>PACK OF 20 SPACEBOY NAPKINS</td>\n",
       "      <td>12.0</td>\n",
       "      <td>2011-12-09 12:50:00</td>\n",
       "      <td>0.85</td>\n",
       "      <td>12680</td>\n",
       "      <td>France</td>\n",
       "      <td>3</td>\n",
       "      <td>3</td>\n",
       "      <td>10.20</td>\n",
       "      <td>100.000000</td>\n",
       "      <td>2011</td>\n",
       "      <td>12</td>\n",
       "    </tr>\n",
       "    <tr>\n",
       "      <th>479747</th>\n",
       "      <td>581587</td>\n",
       "      <td>22899</td>\n",
       "      <td>CHILDREN'S APRON DOLLY GIRL</td>\n",
       "      <td>6.0</td>\n",
       "      <td>2011-12-09 12:50:00</td>\n",
       "      <td>2.10</td>\n",
       "      <td>12680</td>\n",
       "      <td>France</td>\n",
       "      <td>4</td>\n",
       "      <td>2</td>\n",
       "      <td>12.60</td>\n",
       "      <td>200.000000</td>\n",
       "      <td>2011</td>\n",
       "      <td>12</td>\n",
       "    </tr>\n",
       "    <tr>\n",
       "      <th>479748</th>\n",
       "      <td>581587</td>\n",
       "      <td>23254</td>\n",
       "      <td>CHILDRENS CUTLERY DOLLY GIRL</td>\n",
       "      <td>4.0</td>\n",
       "      <td>2011-12-09 12:50:00</td>\n",
       "      <td>4.15</td>\n",
       "      <td>12680</td>\n",
       "      <td>France</td>\n",
       "      <td>3</td>\n",
       "      <td>7</td>\n",
       "      <td>16.60</td>\n",
       "      <td>42.857143</td>\n",
       "      <td>2011</td>\n",
       "      <td>12</td>\n",
       "    </tr>\n",
       "    <tr>\n",
       "      <th>479749</th>\n",
       "      <td>581587</td>\n",
       "      <td>23255</td>\n",
       "      <td>CHILDRENS CUTLERY CIRCUS PARADE</td>\n",
       "      <td>4.0</td>\n",
       "      <td>2011-12-09 12:50:00</td>\n",
       "      <td>4.15</td>\n",
       "      <td>12680</td>\n",
       "      <td>France</td>\n",
       "      <td>4</td>\n",
       "      <td>6</td>\n",
       "      <td>16.60</td>\n",
       "      <td>66.666667</td>\n",
       "      <td>2011</td>\n",
       "      <td>12</td>\n",
       "    </tr>\n",
       "    <tr>\n",
       "      <th>479750</th>\n",
       "      <td>581587</td>\n",
       "      <td>22138</td>\n",
       "      <td>BAKING SET 9 PIECE RETROSPOT</td>\n",
       "      <td>3.0</td>\n",
       "      <td>2011-12-09 12:50:00</td>\n",
       "      <td>4.95</td>\n",
       "      <td>12680</td>\n",
       "      <td>France</td>\n",
       "      <td>2</td>\n",
       "      <td>3</td>\n",
       "      <td>14.85</td>\n",
       "      <td>66.666667</td>\n",
       "      <td>2011</td>\n",
       "      <td>12</td>\n",
       "    </tr>\n",
       "  </tbody>\n",
       "</table>\n",
       "<p>479751 rows × 14 columns</p>\n",
       "</div>"
      ],
      "text/plain": [
       "        InvoiceNo StockCode                        Description  Quantity  \\\n",
       "0          536367     84879      ASSORTED COLOUR BIRD ORNAMENT      32.0   \n",
       "1          536367     22745         POPPY'S PLAYHOUSE BEDROOM        6.0   \n",
       "2          536367     22748          POPPY'S PLAYHOUSE KITCHEN       6.0   \n",
       "3          536667     79321                      CHILLI LIGHTS       4.0   \n",
       "4          536367     22749  FELTCRAFT PRINCESS CHARLOTTE DOLL       8.0   \n",
       "...           ...       ...                                ...       ...   \n",
       "479746     581587     22613        PACK OF 20 SPACEBOY NAPKINS      12.0   \n",
       "479747     581587     22899       CHILDREN'S APRON DOLLY GIRL        6.0   \n",
       "479748     581587     23254      CHILDRENS CUTLERY DOLLY GIRL        4.0   \n",
       "479749     581587     23255    CHILDRENS CUTLERY CIRCUS PARADE       4.0   \n",
       "479750     581587     22138      BAKING SET 9 PIECE RETROSPOT        3.0   \n",
       "\n",
       "                InvoiceDate  UnitPrice  CustomerID         Country  \\\n",
       "0       2010-12-01 08:34:00       1.69       13047  United Kingdom   \n",
       "1       2010-12-01 08:34:00       2.10       13047  United Kingdom   \n",
       "2       2010-12-01 08:34:00       2.10       13047  United Kingdom   \n",
       "3       2010-12-02 12:09:00       4.95       15260  United Kingdom   \n",
       "4       2010-12-01 08:34:00       3.75       13047  United Kingdom   \n",
       "...                     ...        ...         ...             ...   \n",
       "479746  2011-12-09 12:50:00       0.85       12680          France   \n",
       "479747  2011-12-09 12:50:00       2.10       12680          France   \n",
       "479748  2011-12-09 12:50:00       4.15       12680          France   \n",
       "479749  2011-12-09 12:50:00       4.15       12680          France   \n",
       "479750  2011-12-09 12:50:00       4.95       12680          France   \n",
       "\n",
       "        requested_days  delivered_days  TotalPrice  \\\n",
       "0                    2               2       54.08   \n",
       "1                    0               7       12.60   \n",
       "2                    1               5       12.60   \n",
       "3                    3               3       19.80   \n",
       "4                    5               3       30.00   \n",
       "...                ...             ...         ...   \n",
       "479746               3               3       10.20   \n",
       "479747               4               2       12.60   \n",
       "479748               3               7       16.60   \n",
       "479749               4               6       16.60   \n",
       "479750               2               3       14.85   \n",
       "\n",
       "        logistic_performance_indicator  Year  Month  \n",
       "0                           100.000000  2010     12  \n",
       "1                             0.000000  2010     12  \n",
       "2                            20.000000  2010     12  \n",
       "3                           100.000000  2010     12  \n",
       "4                           166.666667  2010     12  \n",
       "...                                ...   ...    ...  \n",
       "479746                      100.000000  2011     12  \n",
       "479747                      200.000000  2011     12  \n",
       "479748                       42.857143  2011     12  \n",
       "479749                       66.666667  2011     12  \n",
       "479750                       66.666667  2011     12  \n",
       "\n",
       "[479751 rows x 14 columns]"
      ]
     },
     "execution_count": 23,
     "metadata": {},
     "output_type": "execute_result"
    }
   ],
   "source": [
    "Final_data=pd.read_csv('finaldata_python.csv', encoding= 'unicode_escape')\n",
    "Final_data.drop(columns=Final_data.columns[0], axis=1, inplace=True)\n",
    "Final_data['InvoiceNo']=Final_data['InvoiceNo'].astype(int)\n",
    "Final_data['CustomerID']=Final_data['CustomerID'].astype(int)\n",
    "Final_data['Year'] = pd.DatetimeIndex(Final_data['InvoiceDate']).year\n",
    "Final_data['Month'] = pd.DatetimeIndex(Final_data['InvoiceDate']).month\n",
    "Final_data.dropna(subset=['logistic_performance_indicator'],how='any',inplace= True)\n",
    "\n",
    "Final_data\n"
   ]
  },
  {
   "cell_type": "markdown",
   "id": "45f65364",
   "metadata": {},
   "source": [
    " EDA"
   ]
  },
  {
   "cell_type": "code",
   "execution_count": 24,
   "id": "03c61c4a",
   "metadata": {},
   "outputs": [],
   "source": [
    "x = Final_data.groupby(['Description'], as_index=False).agg(SALE=('TotalPrice','sum'))\n",
    "y= Final_data.groupby(['Description'], as_index=False).agg(Count=('Description','count'))"
   ]
  },
  {
   "cell_type": "code",
   "execution_count": 25,
   "id": "c2a3bf22",
   "metadata": {},
   "outputs": [
    {
     "data": {
      "image/png": "[encoded data removed]",
      "text/plain": [
       "<Figure size 1152x648 with 1 Axes>"
      ]
     },
     "metadata": {
      "needs_background": "light"
     },
     "output_type": "display_data"
    }
   ],
   "source": [
    "#Most selling products\n",
    "\n",
    "# Read CSV into pandas\n",
    "\n",
    "product = x['Description'].head(12)\n",
    "sale = x['SALE'].head(12)\n",
    "\n",
    "# Figure Size\n",
    "fig, ax = plt.subplots(figsize =(16, 9))\n",
    "\n",
    "# Horizontal Bar Plot\n",
    "ax.barh(product, sale)\n",
    "\n",
    "# Remove axes splines\n",
    "for s in ['top', 'bottom', 'left', 'right']:\n",
    "\tax.spines[s].set_visible(False)\n",
    "\n",
    "# Remove x, y Ticks\n",
    "ax.xaxis.set_ticks_position('none')\n",
    "ax.yaxis.set_ticks_position('none')\n",
    "\n",
    "# Add padding between axes and labels\n",
    "ax.xaxis.set_tick_params(pad = 5)\n",
    "ax.yaxis.set_tick_params(pad = 10)\n",
    "\n",
    "# Add x, y gridlines\n",
    "ax.grid(b = True, color ='grey',\n",
    "\t\tlinestyle ='-.', linewidth = 0.5,\n",
    "\t\talpha = 0.2)\n",
    "\n",
    "# Show top values\n",
    "ax.invert_yaxis()\n",
    "\n",
    "# Add annotation to bars\n",
    "for i in ax.patches:\n",
    "\tplt.text(i.get_width()+0.2, i.get_y()+0.5,\n",
    "\t\t\tstr(round((i.get_width()), 2)),\n",
    "\t\t\tfontsize = 10, fontweight ='bold',\n",
    "\t\t\tcolor ='grey')\n",
    "\n",
    "# Add Plot Title\n",
    "ax.set_title('Most selling products',\n",
    "\t\t\tloc ='left', )\n",
    "\n",
    "# Add Text watermark\n",
    "fig.text(0.9, 0.15, 'Jeeteshgavande30', fontsize = 12,\n",
    "\t\tcolor ='grey', ha ='right', va ='bottom',\n",
    "\t\talpha = 0.7)\n",
    "\n",
    "# Show Plot\n",
    "plt.show()\n",
    "\n"
   ]
  },
  {
   "cell_type": "code",
   "execution_count": 26,
   "id": "471b235c",
   "metadata": {},
   "outputs": [
    {
     "data": {
      "image/png": "[encoded data removed]",
      "text/plain": [
       "<Figure size 1152x648 with 1 Axes>"
      ]
     },
     "metadata": {
      "needs_background": "light"
     },
     "output_type": "display_data"
    }
   ],
   "source": [
    "#Most Favourite products\n",
    "import pandas as pd\n",
    "\n",
    "# Read CSV into pandas\n",
    "\n",
    "product = y['Description'].head(12)\n",
    "sale = y['Count'].head(12)\n",
    "\n",
    "# Figure Size\n",
    "fig, ax = plt.subplots(figsize =(16, 9))\n",
    "\n",
    "# Horizontal Bar Plot\n",
    "ax.barh(product, sale)\n",
    "\n",
    "# Remove axes splines\n",
    "for s in ['top', 'bottom', 'left', 'right']:\n",
    "\tax.spines[s].set_visible(False)\n",
    "\n",
    "# Remove x, y Ticks\n",
    "ax.xaxis.set_ticks_position('none')\n",
    "ax.yaxis.set_ticks_position('none')\n",
    "\n",
    "# Add padding between axes and labels\n",
    "ax.xaxis.set_tick_params(pad = 5)\n",
    "ax.yaxis.set_tick_params(pad = 10)\n",
    "\n",
    "# Add x, y gridlines\n",
    "ax.grid(b = True, color ='grey',\n",
    "\t\tlinestyle ='-.', linewidth = 0.5,\n",
    "\t\talpha = 0.2)\n",
    "\n",
    "# Show top values\n",
    "ax.invert_yaxis()\n",
    "\n",
    "# Add annotation to bars\n",
    "for i in ax.patches:\n",
    "\tplt.text(i.get_width()+0.2, i.get_y()+0.5,\n",
    "\t\t\tstr(round((i.get_width()), 2)),\n",
    "\t\t\tfontsize = 10, fontweight ='bold',\n",
    "\t\t\tcolor ='grey')\n",
    "\n",
    "# Add Plot Title\n",
    "ax.set_title('Most Favourite products',\n",
    "\t\t\tloc ='left', )\n",
    "\n",
    "# Add Text watermark\n",
    "fig.text(0.9, 0.15, 'Jeeteshgavande30', fontsize = 12,\n",
    "\t\tcolor ='grey', ha ='right', va ='bottom',\n",
    "\t\talpha = 0.7)\n",
    "\n",
    "# Show Plot\n",
    "plt.show()\n",
    "\n"
   ]
  },
  {
   "cell_type": "code",
   "execution_count": 27,
   "id": "f28c456b",
   "metadata": {},
   "outputs": [
    {
     "data": {
      "image/png": "[encoded data removed]",
      "text/plain": [
       "<Figure size 1080x792 with 2 Axes>"
      ]
     },
     "metadata": {
      "needs_background": "light"
     },
     "output_type": "display_data"
    }
   ],
   "source": [
    "\n",
    "\n",
    "#correlation table\n",
    "correlation=Final_data.corr()\n",
    "plt.figure(figsize=(15,11))\n",
    "sns.heatmap(Final_data.corr(), cmap='flare', annot = True)\n",
    "plt.title(\"Correlation Map\", fontweight = \"bold\", fontsize=16)\n",
    "plt.show()"
   ]
  },
  {
   "cell_type": "code",
   "execution_count": 28,
   "id": "c4967433",
   "metadata": {},
   "outputs": [
    {
     "data": {
      "text/html": [
       "<div>\n",
       "<style scoped>\n",
       "    .dataframe tbody tr th:only-of-type {\n",
       "        vertical-align: middle;\n",
       "    }\n",
       "\n",
       "    .dataframe tbody tr th {\n",
       "        vertical-align: top;\n",
       "    }\n",
       "\n",
       "    .dataframe thead th {\n",
       "        text-align: right;\n",
       "    }\n",
       "</style>\n",
       "<table border=\"1\" class=\"dataframe\">\n",
       "  <thead>\n",
       "    <tr style=\"text-align: right;\">\n",
       "      <th></th>\n",
       "      <th>Country</th>\n",
       "      <th>Year</th>\n",
       "      <th>Month</th>\n",
       "      <th>Logistic_performance</th>\n",
       "      <th>SALE</th>\n",
       "    </tr>\n",
       "  </thead>\n",
       "  <tbody>\n",
       "    <tr>\n",
       "      <th>0</th>\n",
       "      <td>Australia</td>\n",
       "      <td>2010</td>\n",
       "      <td>12</td>\n",
       "      <td>77.118347</td>\n",
       "      <td>965.350</td>\n",
       "    </tr>\n",
       "    <tr>\n",
       "      <th>1</th>\n",
       "      <td>Australia</td>\n",
       "      <td>2011</td>\n",
       "      <td>1</td>\n",
       "      <td>79.440901</td>\n",
       "      <td>8265.130</td>\n",
       "    </tr>\n",
       "    <tr>\n",
       "      <th>2</th>\n",
       "      <td>Australia</td>\n",
       "      <td>2011</td>\n",
       "      <td>2</td>\n",
       "      <td>81.229656</td>\n",
       "      <td>12970.380</td>\n",
       "    </tr>\n",
       "    <tr>\n",
       "      <th>3</th>\n",
       "      <td>Australia</td>\n",
       "      <td>2011</td>\n",
       "      <td>3</td>\n",
       "      <td>82.415675</td>\n",
       "      <td>14407.950</td>\n",
       "    </tr>\n",
       "    <tr>\n",
       "      <th>4</th>\n",
       "      <td>Australia</td>\n",
       "      <td>2011</td>\n",
       "      <td>4</td>\n",
       "      <td>146.928571</td>\n",
       "      <td>641.000</td>\n",
       "    </tr>\n",
       "    <tr>\n",
       "      <th>...</th>\n",
       "      <td>...</td>\n",
       "      <td>...</td>\n",
       "      <td>...</td>\n",
       "      <td>...</td>\n",
       "      <td>...</td>\n",
       "    </tr>\n",
       "    <tr>\n",
       "      <th>301</th>\n",
       "      <td>United Kingdom</td>\n",
       "      <td>2011</td>\n",
       "      <td>8</td>\n",
       "      <td>85.855034</td>\n",
       "      <td>525460.480</td>\n",
       "    </tr>\n",
       "    <tr>\n",
       "      <th>302</th>\n",
       "      <td>United Kingdom</td>\n",
       "      <td>2011</td>\n",
       "      <td>9</td>\n",
       "      <td>84.137439</td>\n",
       "      <td>802449.351</td>\n",
       "    </tr>\n",
       "    <tr>\n",
       "      <th>303</th>\n",
       "      <td>United Kingdom</td>\n",
       "      <td>2011</td>\n",
       "      <td>10</td>\n",
       "      <td>85.977507</td>\n",
       "      <td>842486.550</td>\n",
       "    </tr>\n",
       "    <tr>\n",
       "      <th>304</th>\n",
       "      <td>United Kingdom</td>\n",
       "      <td>2011</td>\n",
       "      <td>11</td>\n",
       "      <td>85.111569</td>\n",
       "      <td>1185428.600</td>\n",
       "    </tr>\n",
       "    <tr>\n",
       "      <th>305</th>\n",
       "      <td>United Kingdom</td>\n",
       "      <td>2011</td>\n",
       "      <td>12</td>\n",
       "      <td>84.729799</td>\n",
       "      <td>542691.120</td>\n",
       "    </tr>\n",
       "  </tbody>\n",
       "</table>\n",
       "<p>306 rows × 5 columns</p>\n",
       "</div>"
      ],
      "text/plain": [
       "            Country  Year  Month  Logistic_performance         SALE\n",
       "0         Australia  2010     12             77.118347      965.350\n",
       "1         Australia  2011      1             79.440901     8265.130\n",
       "2         Australia  2011      2             81.229656    12970.380\n",
       "3         Australia  2011      3             82.415675    14407.950\n",
       "4         Australia  2011      4            146.928571      641.000\n",
       "..              ...   ...    ...                   ...          ...\n",
       "301  United Kingdom  2011      8             85.855034   525460.480\n",
       "302  United Kingdom  2011      9             84.137439   802449.351\n",
       "303  United Kingdom  2011     10             85.977507   842486.550\n",
       "304  United Kingdom  2011     11             85.111569  1185428.600\n",
       "305  United Kingdom  2011     12             84.729799   542691.120\n",
       "\n",
       "[306 rows x 5 columns]"
      ]
     },
     "execution_count": 28,
     "metadata": {},
     "output_type": "execute_result"
    }
   ],
   "source": [
    "##grouping necessary data to predict\n",
    "df = Final_data.groupby(['Country','Year','Month'], as_index=False).agg(Logistic_performance=('logistic_performance_indicator','mean'),SALE=('TotalPrice','sum'))\n",
    "df\n",
    "#Final_data.groupby(['Country'],as_index=False).agg(Logistic_performance=('logistic_performance_indicator','mean'))"
   ]
  },
  {
   "cell_type": "code",
   "execution_count": 29,
   "id": "d38a33a7",
   "metadata": {
    "scrolled": true
   },
   "outputs": [
    {
     "data": {
      "image/png": "[encoded data removed]",
      "text/plain": [
       "<Figure size 360x360 with 2 Axes>"
      ]
     },
     "metadata": {
      "needs_background": "light"
     },
     "output_type": "display_data"
    }
   ],
   "source": [
    "\n",
    "#correlation table\n",
    "correlation=df.corr()\n",
    "plt.figure(figsize=(5,5))\n",
    "sns.heatmap(df.corr(), cmap='flare', annot = True)\n",
    "plt.title(\"Correlation Map\", fontweight = \"bold\", fontsize=16)\n",
    "plt.show()"
   ]
  },
  {
   "cell_type": "markdown",
   "id": "fb537be9",
   "metadata": {},
   "source": [
    "\n",
    "Feature selections\n"
   ]
  },
  {
   "cell_type": "code",
   "execution_count": 30,
   "id": "bbccddd8",
   "metadata": {},
   "outputs": [],
   "source": [
    "from sklearn.decomposition import PCA\n",
    "from sklearn.preprocessing import LabelEncoder, StandardScaler, MinMaxScaler\n",
    "from sklearn.model_selection import train_test_split\n",
    "\n"
   ]
  },
  {
   "cell_type": "code",
   "execution_count": 31,
   "id": "07c465d2",
   "metadata": {},
   "outputs": [
    {
     "data": {
      "text/html": [
       "<div>\n",
       "<style scoped>\n",
       "    .dataframe tbody tr th:only-of-type {\n",
       "        vertical-align: middle;\n",
       "    }\n",
       "\n",
       "    .dataframe tbody tr th {\n",
       "        vertical-align: top;\n",
       "    }\n",
       "\n",
       "    .dataframe thead th {\n",
       "        text-align: right;\n",
       "    }\n",
       "</style>\n",
       "<table border=\"1\" class=\"dataframe\">\n",
       "  <thead>\n",
       "    <tr style=\"text-align: right;\">\n",
       "      <th></th>\n",
       "      <th>SALE</th>\n",
       "      <th>Logistic_performance</th>\n",
       "    </tr>\n",
       "  </thead>\n",
       "  <tbody>\n",
       "    <tr>\n",
       "      <th>0</th>\n",
       "      <td>-0.228914</td>\n",
       "      <td>-0.334861</td>\n",
       "    </tr>\n",
       "    <tr>\n",
       "      <th>1</th>\n",
       "      <td>-0.173347</td>\n",
       "      <td>-0.238240</td>\n",
       "    </tr>\n",
       "    <tr>\n",
       "      <th>2</th>\n",
       "      <td>-0.137530</td>\n",
       "      <td>-0.163825</td>\n",
       "    </tr>\n",
       "    <tr>\n",
       "      <th>3</th>\n",
       "      <td>-0.126587</td>\n",
       "      <td>-0.114485</td>\n",
       "    </tr>\n",
       "    <tr>\n",
       "      <th>4</th>\n",
       "      <td>-0.231383</td>\n",
       "      <td>2.569347</td>\n",
       "    </tr>\n",
       "    <tr>\n",
       "      <th>...</th>\n",
       "      <td>...</td>\n",
       "      <td>...</td>\n",
       "    </tr>\n",
       "    <tr>\n",
       "      <th>301</th>\n",
       "      <td>3.763611</td>\n",
       "      <td>0.028598</td>\n",
       "    </tr>\n",
       "    <tr>\n",
       "      <th>302</th>\n",
       "      <td>5.872086</td>\n",
       "      <td>-0.042857</td>\n",
       "    </tr>\n",
       "    <tr>\n",
       "      <th>303</th>\n",
       "      <td>6.176854</td>\n",
       "      <td>0.033693</td>\n",
       "    </tr>\n",
       "    <tr>\n",
       "      <th>304</th>\n",
       "      <td>8.787374</td>\n",
       "      <td>-0.002332</td>\n",
       "    </tr>\n",
       "    <tr>\n",
       "      <th>305</th>\n",
       "      <td>3.894773</td>\n",
       "      <td>-0.018214</td>\n",
       "    </tr>\n",
       "  </tbody>\n",
       "</table>\n",
       "<p>306 rows × 2 columns</p>\n",
       "</div>"
      ],
      "text/plain": [
       "         SALE  Logistic_performance\n",
       "0   -0.228914             -0.334861\n",
       "1   -0.173347             -0.238240\n",
       "2   -0.137530             -0.163825\n",
       "3   -0.126587             -0.114485\n",
       "4   -0.231383              2.569347\n",
       "..        ...                   ...\n",
       "301  3.763611              0.028598\n",
       "302  5.872086             -0.042857\n",
       "303  6.176854              0.033693\n",
       "304  8.787374             -0.002332\n",
       "305  3.894773             -0.018214\n",
       "\n",
       "[306 rows x 2 columns]"
      ]
     },
     "execution_count": 31,
     "metadata": {},
     "output_type": "execute_result"
    }
   ],
   "source": [
    "#as we can see in correlation table, experience & current job years columns are highly related than others.there might be repeated values in row values in dataset. SO data transformation is required ie.PCA\n",
    "#formula is (value-mean)/standard deviation\n",
    "columns=[\"SALE\",\"Logistic_performance\"]\n",
    "dataPCA=df[columns]\n",
    "transformedDF=(dataPCA-dataPCA.mean(axis=0))/dataPCA.std()\n",
    "transformedDF"
   ]
  },
  {
   "cell_type": "code",
   "execution_count": 32,
   "id": "c4c17554",
   "metadata": {},
   "outputs": [
    {
     "data": {
      "text/html": [
       "<div>\n",
       "<style scoped>\n",
       "    .dataframe tbody tr th:only-of-type {\n",
       "        vertical-align: middle;\n",
       "    }\n",
       "\n",
       "    .dataframe tbody tr th {\n",
       "        vertical-align: top;\n",
       "    }\n",
       "\n",
       "    .dataframe thead th {\n",
       "        text-align: right;\n",
       "    }\n",
       "</style>\n",
       "<table border=\"1\" class=\"dataframe\">\n",
       "  <thead>\n",
       "    <tr style=\"text-align: right;\">\n",
       "      <th></th>\n",
       "      <th>PC.SALE</th>\n",
       "      <th>PC.Logistic_performance</th>\n",
       "    </tr>\n",
       "  </thead>\n",
       "  <tbody>\n",
       "    <tr>\n",
       "      <th>0</th>\n",
       "      <td>-0.074916</td>\n",
       "      <td>-0.398649</td>\n",
       "    </tr>\n",
       "    <tr>\n",
       "      <th>1</th>\n",
       "      <td>-0.045886</td>\n",
       "      <td>-0.291036</td>\n",
       "    </tr>\n",
       "    <tr>\n",
       "      <th>2</th>\n",
       "      <td>-0.018593</td>\n",
       "      <td>-0.213090</td>\n",
       "    </tr>\n",
       "    <tr>\n",
       "      <th>3</th>\n",
       "      <td>0.008558</td>\n",
       "      <td>-0.170464</td>\n",
       "    </tr>\n",
       "    <tr>\n",
       "      <th>4</th>\n",
       "      <td>1.980415</td>\n",
       "      <td>1.653190</td>\n",
       "    </tr>\n",
       "  </tbody>\n",
       "</table>\n",
       "</div>"
      ],
      "text/plain": [
       "    PC.SALE  PC.Logistic_performance\n",
       "0 -0.074916                -0.398649\n",
       "1 -0.045886                -0.291036\n",
       "2 -0.018593                -0.213090\n",
       "3  0.008558                -0.170464\n",
       "4  1.980415                 1.653190"
      ]
     },
     "execution_count": 32,
     "metadata": {},
     "output_type": "execute_result"
    }
   ],
   "source": [
    "#applying PCA(principle component analysis) method to transformed DF\n",
    "pca=PCA(n_components=2)\n",
    "PC=pca.fit_transform(transformedDF)\n",
    "principle=pd.DataFrame(data=PC,columns=['PC.SALE','PC.Logistic_performance'])\n",
    "principle.head()"
   ]
  },
  {
   "cell_type": "code",
   "execution_count": 33,
   "id": "fe73c022",
   "metadata": {},
   "outputs": [
    {
     "data": {
      "text/html": [
       "<div>\n",
       "<style scoped>\n",
       "    .dataframe tbody tr th:only-of-type {\n",
       "        vertical-align: middle;\n",
       "    }\n",
       "\n",
       "    .dataframe tbody tr th {\n",
       "        vertical-align: top;\n",
       "    }\n",
       "\n",
       "    .dataframe thead th {\n",
       "        text-align: right;\n",
       "    }\n",
       "</style>\n",
       "<table border=\"1\" class=\"dataframe\">\n",
       "  <thead>\n",
       "    <tr style=\"text-align: right;\">\n",
       "      <th></th>\n",
       "      <th>Country</th>\n",
       "      <th>Year</th>\n",
       "      <th>Month</th>\n",
       "      <th>Logistic_performance</th>\n",
       "      <th>SALE</th>\n",
       "      <th>PC.SALE</th>\n",
       "      <th>PC.Logistic_performance</th>\n",
       "    </tr>\n",
       "  </thead>\n",
       "  <tbody>\n",
       "    <tr>\n",
       "      <th>0</th>\n",
       "      <td>Australia</td>\n",
       "      <td>2010</td>\n",
       "      <td>12</td>\n",
       "      <td>77.118347</td>\n",
       "      <td>965.35</td>\n",
       "      <td>-0.074916</td>\n",
       "      <td>-0.398649</td>\n",
       "    </tr>\n",
       "    <tr>\n",
       "      <th>1</th>\n",
       "      <td>Australia</td>\n",
       "      <td>2011</td>\n",
       "      <td>1</td>\n",
       "      <td>79.440901</td>\n",
       "      <td>8265.13</td>\n",
       "      <td>-0.045886</td>\n",
       "      <td>-0.291036</td>\n",
       "    </tr>\n",
       "    <tr>\n",
       "      <th>2</th>\n",
       "      <td>Australia</td>\n",
       "      <td>2011</td>\n",
       "      <td>2</td>\n",
       "      <td>81.229656</td>\n",
       "      <td>12970.38</td>\n",
       "      <td>-0.018593</td>\n",
       "      <td>-0.213090</td>\n",
       "    </tr>\n",
       "    <tr>\n",
       "      <th>3</th>\n",
       "      <td>Australia</td>\n",
       "      <td>2011</td>\n",
       "      <td>3</td>\n",
       "      <td>82.415675</td>\n",
       "      <td>14407.95</td>\n",
       "      <td>0.008558</td>\n",
       "      <td>-0.170464</td>\n",
       "    </tr>\n",
       "    <tr>\n",
       "      <th>4</th>\n",
       "      <td>Australia</td>\n",
       "      <td>2011</td>\n",
       "      <td>4</td>\n",
       "      <td>146.928571</td>\n",
       "      <td>641.00</td>\n",
       "      <td>1.980415</td>\n",
       "      <td>1.653190</td>\n",
       "    </tr>\n",
       "  </tbody>\n",
       "</table>\n",
       "</div>"
      ],
      "text/plain": [
       "     Country  Year  Month  Logistic_performance      SALE   PC.SALE  \\\n",
       "0  Australia  2010     12             77.118347    965.35 -0.074916   \n",
       "1  Australia  2011      1             79.440901   8265.13 -0.045886   \n",
       "2  Australia  2011      2             81.229656  12970.38 -0.018593   \n",
       "3  Australia  2011      3             82.415675  14407.95  0.008558   \n",
       "4  Australia  2011      4            146.928571    641.00  1.980415   \n",
       "\n",
       "   PC.Logistic_performance  \n",
       "0                -0.398649  \n",
       "1                -0.291036  \n",
       "2                -0.213090  \n",
       "3                -0.170464  \n",
       "4                 1.653190  "
      ]
     },
     "execution_count": 33,
     "metadata": {},
     "output_type": "execute_result"
    }
   ],
   "source": [
    "#adding PCA columns into dataset\n",
    "df=pd.concat([df,principle],axis=1)\n",
    "df.head()"
   ]
  },
  {
   "cell_type": "code",
   "execution_count": 34,
   "id": "ceaa29aa",
   "metadata": {},
   "outputs": [
    {
     "data": {
      "text/html": [
       "<div>\n",
       "<style scoped>\n",
       "    .dataframe tbody tr th:only-of-type {\n",
       "        vertical-align: middle;\n",
       "    }\n",
       "\n",
       "    .dataframe tbody tr th {\n",
       "        vertical-align: top;\n",
       "    }\n",
       "\n",
       "    .dataframe thead th {\n",
       "        text-align: right;\n",
       "    }\n",
       "</style>\n",
       "<table border=\"1\" class=\"dataframe\">\n",
       "  <thead>\n",
       "    <tr style=\"text-align: right;\">\n",
       "      <th></th>\n",
       "      <th>Country</th>\n",
       "      <th>Year</th>\n",
       "      <th>Month</th>\n",
       "      <th>Logistic_performance</th>\n",
       "      <th>SALE</th>\n",
       "      <th>PC.SALE</th>\n",
       "      <th>PC.Logistic_performance</th>\n",
       "    </tr>\n",
       "  </thead>\n",
       "  <tbody>\n",
       "    <tr>\n",
       "      <th>0</th>\n",
       "      <td>1</td>\n",
       "      <td>2010</td>\n",
       "      <td>12</td>\n",
       "      <td>77.118347</td>\n",
       "      <td>965.350</td>\n",
       "      <td>-0.074916</td>\n",
       "      <td>-0.398649</td>\n",
       "    </tr>\n",
       "    <tr>\n",
       "      <th>1</th>\n",
       "      <td>1</td>\n",
       "      <td>2011</td>\n",
       "      <td>1</td>\n",
       "      <td>79.440901</td>\n",
       "      <td>8265.130</td>\n",
       "      <td>-0.045886</td>\n",
       "      <td>-0.291036</td>\n",
       "    </tr>\n",
       "    <tr>\n",
       "      <th>2</th>\n",
       "      <td>1</td>\n",
       "      <td>2011</td>\n",
       "      <td>2</td>\n",
       "      <td>81.229656</td>\n",
       "      <td>12970.380</td>\n",
       "      <td>-0.018593</td>\n",
       "      <td>-0.213090</td>\n",
       "    </tr>\n",
       "    <tr>\n",
       "      <th>3</th>\n",
       "      <td>1</td>\n",
       "      <td>2011</td>\n",
       "      <td>3</td>\n",
       "      <td>82.415675</td>\n",
       "      <td>14407.950</td>\n",
       "      <td>0.008558</td>\n",
       "      <td>-0.170464</td>\n",
       "    </tr>\n",
       "    <tr>\n",
       "      <th>4</th>\n",
       "      <td>1</td>\n",
       "      <td>2011</td>\n",
       "      <td>4</td>\n",
       "      <td>146.928571</td>\n",
       "      <td>641.000</td>\n",
       "      <td>1.980415</td>\n",
       "      <td>1.653190</td>\n",
       "    </tr>\n",
       "    <tr>\n",
       "      <th>...</th>\n",
       "      <td>...</td>\n",
       "      <td>...</td>\n",
       "      <td>...</td>\n",
       "      <td>...</td>\n",
       "      <td>...</td>\n",
       "      <td>...</td>\n",
       "      <td>...</td>\n",
       "    </tr>\n",
       "    <tr>\n",
       "      <th>301</th>\n",
       "      <td>37</td>\n",
       "      <td>2011</td>\n",
       "      <td>8</td>\n",
       "      <td>85.855034</td>\n",
       "      <td>525460.480</td>\n",
       "      <td>-2.641053</td>\n",
       "      <td>2.681496</td>\n",
       "    </tr>\n",
       "    <tr>\n",
       "      <th>302</th>\n",
       "      <td>37</td>\n",
       "      <td>2011</td>\n",
       "      <td>9</td>\n",
       "      <td>84.137439</td>\n",
       "      <td>802449.351</td>\n",
       "      <td>-4.182496</td>\n",
       "      <td>4.121887</td>\n",
       "    </tr>\n",
       "    <tr>\n",
       "      <th>303</th>\n",
       "      <td>37</td>\n",
       "      <td>2011</td>\n",
       "      <td>10</td>\n",
       "      <td>85.977507</td>\n",
       "      <td>842486.550</td>\n",
       "      <td>-4.343871</td>\n",
       "      <td>4.391520</td>\n",
       "    </tr>\n",
       "    <tr>\n",
       "      <th>304</th>\n",
       "      <td>37</td>\n",
       "      <td>2011</td>\n",
       "      <td>11</td>\n",
       "      <td>85.111569</td>\n",
       "      <td>1185428.600</td>\n",
       "      <td>-6.215260</td>\n",
       "      <td>6.211963</td>\n",
       "    </tr>\n",
       "    <tr>\n",
       "      <th>305</th>\n",
       "      <td>37</td>\n",
       "      <td>2011</td>\n",
       "      <td>12</td>\n",
       "      <td>84.729799</td>\n",
       "      <td>542691.120</td>\n",
       "      <td>-2.766899</td>\n",
       "      <td>2.741141</td>\n",
       "    </tr>\n",
       "  </tbody>\n",
       "</table>\n",
       "<p>306 rows × 7 columns</p>\n",
       "</div>"
      ],
      "text/plain": [
       "     Country  Year  Month  Logistic_performance         SALE   PC.SALE  \\\n",
       "0          1  2010     12             77.118347      965.350 -0.074916   \n",
       "1          1  2011      1             79.440901     8265.130 -0.045886   \n",
       "2          1  2011      2             81.229656    12970.380 -0.018593   \n",
       "3          1  2011      3             82.415675    14407.950  0.008558   \n",
       "4          1  2011      4            146.928571      641.000  1.980415   \n",
       "..       ...   ...    ...                   ...          ...       ...   \n",
       "301       37  2011      8             85.855034   525460.480 -2.641053   \n",
       "302       37  2011      9             84.137439   802449.351 -4.182496   \n",
       "303       37  2011     10             85.977507   842486.550 -4.343871   \n",
       "304       37  2011     11             85.111569  1185428.600 -6.215260   \n",
       "305       37  2011     12             84.729799   542691.120 -2.766899   \n",
       "\n",
       "     PC.Logistic_performance  \n",
       "0                  -0.398649  \n",
       "1                  -0.291036  \n",
       "2                  -0.213090  \n",
       "3                  -0.170464  \n",
       "4                   1.653190  \n",
       "..                       ...  \n",
       "301                 2.681496  \n",
       "302                 4.121887  \n",
       "303                 4.391520  \n",
       "304                 6.211963  \n",
       "305                 2.741141  \n",
       "\n",
       "[306 rows x 7 columns]"
      ]
     },
     "execution_count": 34,
     "metadata": {},
     "output_type": "execute_result"
    }
   ],
   "source": [
    "#changing categorical values into numerical for training & test datasets by label encoder\n",
    "cat_col=['Country']\n",
    "label_encoder=LabelEncoder()\n",
    "for col in cat_col:\n",
    "    df[col]=label_encoder.fit_transform(df[col])\n",
    "df['Country']=df['Country']+1\n",
    "df"
   ]
  },
  {
   "cell_type": "markdown",
   "id": "87252fb4",
   "metadata": {},
   "source": [
    " Model bulding for sales prediction\n",
    "\n"
   ]
  },
  {
   "cell_type": "markdown",
   "id": "c137fdd5",
   "metadata": {},
   "source": [
    "1. Linear Regression \n"
   ]
  },
  {
   "cell_type": "code",
   "execution_count": 140,
   "id": "a8461743",
   "metadata": {},
   "outputs": [],
   "source": [
    "def evaluate(true, predicted):\n",
    "    mae = metrics.mean_absolute_error(true, predicted)\n",
    "    mse = metrics.mean_squared_error(true, predicted)\n",
    "    rmse = np.sqrt(metrics.mean_squared_error(true, predicted))\n",
    "    r2_square = metrics.r2_score(true, predicted)\n",
    "    return mae, mse, rmse, r2_square\n"
   ]
  },
  {
   "cell_type": "code",
   "execution_count": null,
   "id": "7b869441",
   "metadata": {},
   "outputs": [],
   "source": [
    "#Splitting data\n",
    "X=df[[\"Country\",\"Year\",\"Month\"]].values\n",
    "y=df[[\"SALE\"]].values\n",
    "\n",
    "\n",
    "\n",
    "X_train, X_test, y_train, y_test = train_test_split( X, y, test_size=0.2, random_state=42)\n"
   ]
  },
  {
   "cell_type": "code",
   "execution_count": 141,
   "id": "74dd1380",
   "metadata": {},
   "outputs": [
    {
     "name": "stdout",
     "output_type": "stream",
     "text": [
      "LinearRegression Model validation score for sales prediction: 59.20465244018735\n",
      "R2 score of  LinearRegression model for sales prediction:  59.20465244018735\n",
      "RMSE value of LinearRegression for sales prediction : 111915.92613282298\n",
      "MSE value of LinearRegression for sales prediction : 12525174522.16749\n",
      "Mean absoulte error of LinearRegression for sales prediction : 59784.77476304633\n"
     ]
    },
    {
     "data": {
      "text/html": [
       "<div>\n",
       "<style scoped>\n",
       "    .dataframe tbody tr th:only-of-type {\n",
       "        vertical-align: middle;\n",
       "    }\n",
       "\n",
       "    .dataframe tbody tr th {\n",
       "        vertical-align: top;\n",
       "    }\n",
       "\n",
       "    .dataframe thead th {\n",
       "        text-align: right;\n",
       "    }\n",
       "</style>\n",
       "<table border=\"1\" class=\"dataframe\">\n",
       "  <thead>\n",
       "    <tr style=\"text-align: right;\">\n",
       "      <th></th>\n",
       "      <th>Model</th>\n",
       "      <th>MAE</th>\n",
       "      <th>MSE</th>\n",
       "      <th>RMSE</th>\n",
       "      <th>R2 Square</th>\n",
       "    </tr>\n",
       "  </thead>\n",
       "  <tbody>\n",
       "    <tr>\n",
       "      <th>0</th>\n",
       "      <td>Linear Regression</td>\n",
       "      <td>59784.77</td>\n",
       "      <td>12525174522.17</td>\n",
       "      <td>111915.93</td>\n",
       "      <td>0.06</td>\n",
       "    </tr>\n",
       "  </tbody>\n",
       "</table>\n",
       "</div>"
      ],
      "text/plain": [
       "                Model      MAE            MSE      RMSE  R2 Square\n",
       "0  Linear Regression  59784.77 12525174522.17 111915.93       0.06"
      ]
     },
     "execution_count": 141,
     "metadata": {},
     "output_type": "execute_result"
    }
   ],
   "source": [
    "##SALES\n",
    "from sklearn.linear_model import LinearRegression\n",
    "from sklearn import metrics\n",
    "\n",
    "LR=LinearRegression()\n",
    "LR.fit(X_train,y_train)\n",
    "y_prediction=LR.predict(X_test)#prediction using test sample\n",
    "\n",
    "from sklearn.metrics import mean_squared_error\n",
    "from math import sqrt\n",
    "from sklearn.metrics import mean_absolute_error\n",
    "print('LinearRegression Model validation score for sales prediction:', LR.score(X_test,y_test)*1000)\n",
    "print('R2 score of  LinearRegression model for sales prediction: ', r2_score(y_test, y_prediction)*1000)\n",
    "print(\"RMSE value of LinearRegression for sales prediction :\",sqrt(mean_squared_error(y_test, y_prediction)))\n",
    "print(\"MSE value of LinearRegression for sales prediction :\",mean_squared_error(y_test, y_prediction))\n",
    "print(\"Mean absoulte error of LinearRegression for sales prediction :\",mean_absolute_error(y_test, y_prediction))\n",
    "\n",
    "results_df = pd.DataFrame(data=[[\"Linear Regression \", *evaluate(y_test, y_prediction) ]], \n",
    "                            columns=['Model', 'MAE', 'MSE', 'RMSE', 'R2 Square'])\n",
    "results_df\n",
    "\n",
    "\n"
   ]
  },
  {
   "cell_type": "code",
   "execution_count": 142,
   "id": "cfdc4af1",
   "metadata": {},
   "outputs": [],
   "source": [
    "#square root for sales\n",
    "sqrt_x= np.sqrt(X+1)\n",
    "sqrt_y = np.sqrt(y)\n",
    "  \n",
    "scalar = StandardScaler() \n",
    "  \n",
    "scalar.fit(sqrt_x) \n",
    "scaled_data_sqrt = scalar.transform(sqrt_x) \n",
    "X_train_sqrt, X_test_sqrt, y_train_sqrt, y_test_sqrt = train_test_split(scaled_data_sqrt , sqrt_y, test_size=0.3, random_state=200)\n",
    "\n"
   ]
  },
  {
   "cell_type": "code",
   "execution_count": 143,
   "id": "291a4475",
   "metadata": {},
   "outputs": [
    {
     "name": "stdout",
     "output_type": "stream",
     "text": [
      "Training accuracy= 0.06877572067055104\n",
      "Prediction R-Square accuracy = 0.05286819508220442\n",
      "MAE: 94.64770097324674\n",
      "MSE: 36310.940412506716\n",
      "RMSE: 190.5542978064434\n"
     ]
    }
   ],
   "source": [
    "#square root for linear regression\n",
    "lm = LinearRegression()\n",
    "lm.fit(X_train_sqrt,y_train_sqrt)\n",
    "\n",
    "print('Training accuracy=',lm.score(X_train_sqrt,y_train_sqrt))\n",
    "pred = lm.predict(X_test_sqrt)\n",
    "\n",
    "\n",
    "mae = metrics.mean_absolute_error(y_test_sqrt, pred)\n",
    "mse = metrics.mean_squared_error(y_test_sqrt, pred)\n",
    "rmse = np.sqrt(metrics.mean_squared_error(y_test_sqrt, pred))\n",
    "r2_square = metrics.r2_score(y_test_sqrt, pred)\n",
    "    \n",
    "print('Prediction R-Square accuracy =',r2_square)\n",
    "print('MAE:', mae)\n",
    "print('MSE:', mse)\n",
    "print('RMSE:',rmse)\n",
    "\n",
    "results_df1 = pd.DataFrame(data=[[\"Linear Regression sqrt\", *evaluate(y_test_sqrt, pred) ]], \n",
    "                            columns=['Model', 'MAE', 'MSE', 'RMSE', 'R2 Square'])\n",
    "results_df = results_df.append(results_df1, ignore_index=True)\n"
   ]
  },
  {
   "cell_type": "code",
   "execution_count": 144,
   "id": "bf81f785",
   "metadata": {},
   "outputs": [
    {
     "data": {
      "text/plain": [
       "Text(0.5, 0, 'Accuracy')"
      ]
     },
     "execution_count": 144,
     "metadata": {},
     "output_type": "execute_result"
    },
    {
     "data": {
      "image/png": "[encoded data removed]",
      "text/plain": [
       "<Figure size 1080x360 with 1 Axes>"
      ]
     },
     "metadata": {},
     "output_type": "display_data"
    }
   ],
   "source": [
    "import seaborn as sns\n",
    "fig = plt.figure(figsize =(15, 5))\n",
    "\n",
    "sns.barplot(x=\"R2 Square\", y=\"Model\", data=results_df)\n",
    "plt.xlabel('Accuracy')\n"
   ]
  },
  {
   "cell_type": "code",
   "execution_count": 145,
   "id": "ec248504",
   "metadata": {},
   "outputs": [
    {
     "name": "stdout",
     "output_type": "stream",
     "text": [
      "Total SALES  [105861.24200225]\n"
     ]
    }
   ],
   "source": [
    "#lets predicit sale\n",
    "\"Country\",\"Year\",\"Month\"\n",
    "\"Units\",\"SALE\"\n",
    "print(\"Total SALES \",LR.predict([[36,2012,4]])[0])\n"
   ]
  },
  {
   "cell_type": "markdown",
   "id": "8c0a9940",
   "metadata": {},
   "source": [
    "\n",
    "2. Decision Tree Regressor \n",
    "\n"
   ]
  },
  {
   "cell_type": "code",
   "execution_count": 146,
   "id": "ee18c9ba",
   "metadata": {},
   "outputs": [
    {
     "name": "stdout",
     "output_type": "stream",
     "text": [
      "Decision TreeRegression Model validation score for sales prediction: 1.0\n",
      "R2 score of  Decision TreeRegression model for sales prediction:  0.9762917983127251\n",
      "RMSE value of Decision Tree Regression for sales prediction : 17766.162045842753\n",
      "MSE value of Decision Tree Regression for sales prediction: 315636513.8391435\n",
      "Mean absoulte error of Decision Tree Regression for sales prediction 6092.688209677419\n"
     ]
    }
   ],
   "source": [
    "##Decision Tree Regressor\n",
    "from sklearn.tree import DecisionTreeRegressor\n",
    "DTR=DecisionTreeRegressor()\n",
    "\n",
    "DTR.fit(X_train,y_train)\n",
    "\n",
    "\n",
    "y_prediction=DTR.predict(X_test)#prediction using test sample\n",
    "print('Decision TreeRegression Model validation score for sales prediction:', DTR.score(X_train,y_train))\n",
    "print('R2 score of  Decision TreeRegression model for sales prediction: ', r2_score(y_test, y_prediction))\n",
    "print(\"RMSE value of Decision Tree Regression for sales prediction :\",sqrt(mean_squared_error(y_test, y_prediction)))\n",
    "print(\"MSE value of Decision Tree Regression for sales prediction:\",mean_squared_error(y_test, y_prediction))\n",
    "print(\"Mean absoulte error of Decision Tree Regression for sales prediction\",mean_absolute_error(y_test, y_prediction))\n",
    "results_df2 = pd.DataFrame(data=[[\"Decision TreeRegression \", *evaluate(y_test, y_prediction) ]], \n",
    "                            columns=['Model', 'MAE', 'MSE', 'RMSE', 'R2 Square'])\n",
    "\n",
    "results_df = results_df.append(results_df2, ignore_index=True)\n",
    "\n"
   ]
  },
  {
   "cell_type": "code",
   "execution_count": 147,
   "id": "b7938d29",
   "metadata": {},
   "outputs": [
    {
     "name": "stdout",
     "output_type": "stream",
     "text": [
      "Training accuracy= 100.0\n",
      "Prediction R-Square accuracy = 0.913302445412232\n",
      "MAE: 35.58624459382947\n",
      "MSE: 3323.7926571579123\n",
      "RMSE: 57.65234303268092\n"
     ]
    }
   ],
   "source": [
    "#square root for Decision Tree\n",
    "DTR = DecisionTreeRegressor()\n",
    "DTR.fit(X_train_sqrt,y_train_sqrt)\n",
    "\n",
    "\n",
    "print('Training accuracy=',DTR.score(X_train_sqrt,y_train_sqrt)*100)\n",
    "pred = DTR.predict(X_test_sqrt)\n",
    "\n",
    "\n",
    "mae = metrics.mean_absolute_error(y_test_sqrt, pred)\n",
    "mse = metrics.mean_squared_error(y_test_sqrt, pred)\n",
    "rmse = np.sqrt(metrics.mean_squared_error(y_test_sqrt, pred))\n",
    "r2_square = metrics.r2_score(y_test_sqrt, pred)\n",
    "    \n",
    "print('Prediction R-Square accuracy =',r2_square)\n",
    "print('MAE:', mae)\n",
    "print('MSE:', mse)\n",
    "print('RMSE:',rmse)\n",
    "\n",
    "results_df3 = pd.DataFrame(data=[[\"DecisionTreeRegressor sqrt\", *evaluate(y_test_sqrt, pred) ]], \n",
    "                            columns=['Model', 'MAE', 'MSE', 'RMSE', 'R2 Square'])\n",
    "results_df = results_df.append(results_df3, ignore_index=True)\n",
    "D=results_df2.append(results_df3, ignore_index=True)"
   ]
  },
  {
   "cell_type": "code",
   "execution_count": 148,
   "id": "49bf492d",
   "metadata": {},
   "outputs": [
    {
     "data": {
      "text/plain": [
       "Text(0.5, 0, 'Accuracy')"
      ]
     },
     "execution_count": 148,
     "metadata": {},
     "output_type": "execute_result"
    },
    {
     "data": {
      "image/png": "[encoded data removed]",
      "text/plain": [
       "<Figure size 1080x360 with 1 Axes>"
      ]
     },
     "metadata": {},
     "output_type": "display_data"
    }
   ],
   "source": [
    "fig = plt.figure(figsize =(15, 5))\n",
    "\n",
    "sns.barplot(x=\"R2 Square\", y=\"Model\", data=D)\n",
    "plt.xlabel('Accuracy')\n"
   ]
  },
  {
   "cell_type": "code",
   "execution_count": 149,
   "id": "aa9d92e1",
   "metadata": {},
   "outputs": [
    {
     "name": "stdout",
     "output_type": "stream",
     "text": [
      "[736.67572242 736.67572242 736.67572242 736.67572242 736.67572242\n",
      "   0.         736.67572242 917.87066082 736.67572242 736.67572242\n",
      "   0.         736.67572242 917.87066082 736.67572242 736.67572242\n",
      " 736.67572242 736.67572242 736.67572242 917.87066082 736.67572242\n",
      " 736.67572242 736.67572242 736.67572242 736.67572242 736.67572242\n",
      " 736.67572242   0.         736.67572242 736.67572242 736.67572242\n",
      " 917.87066082 736.67572242 736.67572242 736.67572242 736.67572242\n",
      " 736.67572242 736.67572242 736.67572242 736.67572242 917.87066082\n",
      " 736.67572242 736.67572242 736.67572242 736.67572242   0.\n",
      " 736.67572242 736.67572242 736.67572242 736.67572242 736.67572242\n",
      " 736.67572242 736.67572242 736.67572242 917.87066082 736.67572242\n",
      " 736.67572242 736.67572242 736.67572242 736.67572242 736.67572242\n",
      " 736.67572242 736.67572242]\n"
     ]
    }
   ],
   "source": [
    "print(DTR.predict(X_test))\n"
   ]
  },
  {
   "cell_type": "code",
   "execution_count": 150,
   "id": "c6126ee0",
   "metadata": {},
   "outputs": [
    {
     "name": "stdout",
     "output_type": "stream",
     "text": [
      "Predicted Sales  736.6757224179443\n"
     ]
    }
   ],
   "source": [
    "#lets predicit sale\n",
    "\"Country\",\"Year\",\"Month\"\n",
    "\"Units\",\"SALE\"\n",
    "print(\"Predicted Sales \",DTR.predict([[36,2012,4]])[0])\n"
   ]
  },
  {
   "cell_type": "code",
   "execution_count": 151,
   "id": "413bc045",
   "metadata": {},
   "outputs": [],
   "source": [
    "#import lazypredict\n",
    "#from lazypredict.Supervised import LazyClassifier\n",
    "#from sklearn.model_selection import train_test_split\n",
    "\n",
    "\n",
    "#clf = LazyClassifier(verbose=0,ignore_warnings=True, custom_metric=None)\n",
    "#models,predictions = clf.fit(X_train, X_test, y_train, y_test)\n",
    "\n",
    "#print(models)\n"
   ]
  },
  {
   "cell_type": "markdown",
   "id": "c01cb0c2",
   "metadata": {},
   "source": [
    "3. GradientBoostingRegressor \n",
    " "
   ]
  },
  {
   "cell_type": "code",
   "execution_count": 152,
   "id": "d473ff9d",
   "metadata": {},
   "outputs": [
    {
     "name": "stdout",
     "output_type": "stream",
     "text": [
      "GradientBoostingRegressor Model validation score for sales prediction: 0.9993683369663092\n",
      "R2 score of  GradientBoostingRegressor:  0.977344666161835\n",
      "RMSE value of GradientBoostingRegressor : 17367.189596962122\n",
      "MSE value of GradientBoostingRegressor(): 301619274.4968294\n",
      "Mean absoulte error of GradientBoostingRegressor() 5742.457655402642\n"
     ]
    }
   ],
   "source": [
    "from sklearn.ensemble import GradientBoostingRegressor \n",
    "\n",
    "\n",
    "GBR=GradientBoostingRegressor()\n",
    "GBR.fit(X_train,y_train)\n",
    "y_prediction=GBR.predict(X_test)#prediction using test sample\n",
    "\n",
    "print('GradientBoostingRegressor Model validation score for sales prediction:', GBR.score(X_train,y_train))\n",
    "\n",
    "print('R2 score of  GradientBoostingRegressor: ', r2_score(y_test, y_prediction))\n",
    "print(\"RMSE value of GradientBoostingRegressor :\",sqrt(mean_squared_error(y_test, y_prediction)))\n",
    "print(\"MSE value of GradientBoostingRegressor():\",mean_squared_error(y_test, y_prediction))\n",
    "print(\"Mean absoulte error of GradientBoostingRegressor()\",mean_absolute_error(y_test, y_prediction))\n",
    "results_df4 = pd.DataFrame(data=[[\" GradientBoostingRegressor \", *evaluate(y_test, y_prediction) ]], \n",
    "                            columns=['Model', 'MAE', 'MSE', 'RMSE', 'R2 Square'])\n",
    "\n",
    "results_df = results_df.append(results_df4, ignore_index=True)\n"
   ]
  },
  {
   "cell_type": "code",
   "execution_count": 153,
   "id": "5a4f9235",
   "metadata": {},
   "outputs": [
    {
     "name": "stdout",
     "output_type": "stream",
     "text": [
      "Training accuracy= 98.00139106080262\n",
      "Prediction R-Square accuracy = 0.9415665957243657\n",
      "MAE: 26.216856604026763\n",
      "MSE: 2240.2075927928786\n",
      "RMSE: 47.330831313139626\n"
     ]
    }
   ],
   "source": [
    "#square root for Decision Tree\n",
    "GBR=GradientBoostingRegressor()\n",
    "GBR.fit(X_train_sqrt,y_train_sqrt)\n",
    "\n",
    "\n",
    "print('Training accuracy=',GBR.score(X_train_sqrt,y_train_sqrt)*100)\n",
    "pred = GBR.predict(X_test_sqrt)\n",
    "\n",
    "\n",
    "mae = metrics.mean_absolute_error(y_test_sqrt, pred)\n",
    "mse = metrics.mean_squared_error(y_test_sqrt, pred)\n",
    "rmse = np.sqrt(metrics.mean_squared_error(y_test_sqrt, pred))\n",
    "r2_square = metrics.r2_score(y_test_sqrt, pred)\n",
    "    \n",
    "print('Prediction R-Square accuracy =',r2_square)\n",
    "print('MAE:', mae)\n",
    "print('MSE:', mse)\n",
    "print('RMSE:',rmse)\n",
    "\n",
    "results_df5 = pd.DataFrame(data=[[\"GradientBoostingRegressor sqrt\", *evaluate(y_test_sqrt, pred) ]], \n",
    "                            columns=['Model', 'MAE', 'MSE', 'RMSE', 'R2 Square'])\n",
    "results_df = results_df.append(results_df5, ignore_index=True)\n",
    "G=results_df4.append(results_df5, ignore_index=True)\n"
   ]
  },
  {
   "cell_type": "code",
   "execution_count": 154,
   "id": "7f174984",
   "metadata": {},
   "outputs": [
    {
     "data": {
      "text/plain": [
       "Text(0.5, 0, 'Accuracy')"
      ]
     },
     "execution_count": 154,
     "metadata": {},
     "output_type": "execute_result"
    },
    {
     "data": {
      "image/png": "[encoded data removed]",
      "text/plain": [
       "<Figure size 1080x360 with 1 Axes>"
      ]
     },
     "metadata": {},
     "output_type": "display_data"
    }
   ],
   "source": [
    "import seaborn as sns\n",
    "fig = plt.figure(figsize =(15, 5))\n",
    "\n",
    "sns.barplot(x=\"R2 Square\", y=\"Model\", data=G)\n",
    "plt.xlabel('Accuracy')\n"
   ]
  },
  {
   "cell_type": "code",
   "execution_count": 155,
   "id": "b8319022",
   "metadata": {},
   "outputs": [
    {
     "name": "stdout",
     "output_type": "stream",
     "text": [
      "Predicted Sales  732.6370903515431\n"
     ]
    }
   ],
   "source": [
    "#lets predicit Sales\n",
    "\"Country\",\"Year\",\"Month\"\n",
    "\"Units\",\"SALE\"\n",
    "print(\"Predicted Sales \",GBR.predict([[36,2012,4]])[0])\n"
   ]
  },
  {
   "cell_type": "markdown",
   "id": "3ddf9201",
   "metadata": {},
   "source": [
    "4.BaggingRegressor"
   ]
  },
  {
   "cell_type": "code",
   "execution_count": 156,
   "id": "0da09c79",
   "metadata": {},
   "outputs": [
    {
     "name": "stdout",
     "output_type": "stream",
     "text": [
      "BaggingRegressor Model validation score for sales prediction: 0.9777153703257783\n",
      "R2 score of  BaggingRegressor:  0.9706351045137956\n",
      "RMSE value of BaggingRegressor : 19772.36150245107\n",
      "MSE value of BaggingRegressor: 390946279.3836091\n",
      "Mean absoulte error of BaggingRegressor 6745.297124193548\n"
     ]
    }
   ],
   "source": [
    "\n",
    "from sklearn.ensemble import BaggingRegressor\n",
    "\n",
    "BR=BaggingRegressor()\n",
    "\n",
    "BR.fit(X_train,y_train)\n",
    "y_prediction=BR.predict(X_test)#prediction using test sample\n",
    "\n",
    "\n",
    "print('BaggingRegressor Model validation score for sales prediction:', BR.score(X_train,y_train))\n",
    "\n",
    "print('R2 score of  BaggingRegressor: ', r2_score(y_test, y_prediction))\n",
    "print(\"RMSE value of BaggingRegressor :\",sqrt(mean_squared_error(y_test, y_prediction)))\n",
    "print(\"MSE value of BaggingRegressor:\",mean_squared_error(y_test, y_prediction))\n",
    "print(\"Mean absoulte error of BaggingRegressor\",mean_absolute_error(y_test, y_prediction))\n",
    "results_df6 = pd.DataFrame(data=[[\" BaggingRegressor \", *evaluate(y_test, y_prediction) ]], \n",
    "                            columns=['Model', 'MAE', 'MSE', 'RMSE', 'R2 Square'])\n",
    "results_df = results_df.append(results_df6, ignore_index=True)\n",
    "\n"
   ]
  },
  {
   "cell_type": "code",
   "execution_count": 157,
   "id": "5854eff4",
   "metadata": {},
   "outputs": [
    {
     "name": "stdout",
     "output_type": "stream",
     "text": [
      "Training accuracy= 97.11191101651141\n",
      "Prediction R-Square accuracy = 0.924441199728091\n",
      "MAE: 31.83793986953871\n",
      "MSE: 2896.7574312974402\n",
      "RMSE: 53.82153315632546\n"
     ]
    }
   ],
   "source": [
    "#square root for BaggingRegressor\n",
    "BR=BaggingRegressor()\n",
    "BR.fit(X_train_sqrt,y_train_sqrt)\n",
    "\n",
    "\n",
    "print('Training accuracy=',BR.score(X_train_sqrt,y_train_sqrt)*100)\n",
    "pred = BR.predict(X_test_sqrt)\n",
    "\n",
    "\n",
    "mae = metrics.mean_absolute_error(y_test_sqrt, pred)\n",
    "mse = metrics.mean_squared_error(y_test_sqrt, pred)\n",
    "rmse = np.sqrt(metrics.mean_squared_error(y_test_sqrt, pred))\n",
    "r2_square = metrics.r2_score(y_test_sqrt, pred)\n",
    "    \n",
    "print('Prediction R-Square accuracy =',r2_square)\n",
    "print('MAE:', mae)\n",
    "print('MSE:', mse)\n",
    "print('RMSE:',rmse)\n",
    "\n",
    "results_df7 = pd.DataFrame(data=[[\"BaggingRegressor sqrt\", *evaluate(y_test_sqrt, pred) ]], \n",
    "                            columns=['Model', 'MAE', 'MSE', 'RMSE', 'R2 Square'])\n",
    "results_df = results_df.append(results_df7, ignore_index=True)\n",
    "B=results_df6.append(results_df7, ignore_index=True)\n"
   ]
  },
  {
   "cell_type": "code",
   "execution_count": 158,
   "id": "7cbcb4df",
   "metadata": {},
   "outputs": [
    {
     "data": {
      "text/plain": [
       "Text(0.5, 0, 'Accuracy')"
      ]
     },
     "execution_count": 158,
     "metadata": {},
     "output_type": "execute_result"
    },
    {
     "data": {
      "image/png": "[encoded data removed]",
      "text/plain": [
       "<Figure size 1080x360 with 1 Axes>"
      ]
     },
     "metadata": {},
     "output_type": "display_data"
    }
   ],
   "source": [
    "\n",
    "import seaborn as sns\n",
    "fig = plt.figure(figsize =(15, 5))\n",
    "\n",
    "sns.barplot(x=\"R2 Square\", y=\"Model\", data=B)\n",
    "plt.xlabel('Accuracy')\n"
   ]
  },
  {
   "cell_type": "markdown",
   "id": "c6c4dc1e",
   "metadata": {},
   "source": [
    "5.AdaBoostRegressor"
   ]
  },
  {
   "cell_type": "code",
   "execution_count": 159,
   "id": "820985be",
   "metadata": {},
   "outputs": [
    {
     "name": "stdout",
     "output_type": "stream",
     "text": [
      "AdaBoostRegressor Model validation score for sales prediction: 0.9965653073285126\n",
      "R2 score of  AdaBoostRegressor:  0.980560006350952\n",
      "RMSE value of AdaBoostRegressor : 16087.64120316435\n",
      "MSE value of AdaBoostRegressor: 258812199.48175132\n",
      "Mean absoulte error of AdaBoostRegressor 6596.151258913114\n"
     ]
    }
   ],
   "source": [
    "\n",
    "from sklearn.ensemble import AdaBoostRegressor\n",
    "\n",
    "ABR=AdaBoostRegressor()\n",
    "\n",
    "ABR.fit(X_train,y_train)\n",
    "y_prediction=ABR.predict(X_test)#prediction using test sample\n",
    "\n",
    "\n",
    "print('AdaBoostRegressor Model validation score for sales prediction:', ABR.score(X_train,y_train))\n",
    "\n",
    "print('R2 score of  AdaBoostRegressor: ', r2_score(y_test, y_prediction))\n",
    "print(\"RMSE value of AdaBoostRegressor :\",sqrt(mean_squared_error(y_test, y_prediction)))\n",
    "print(\"MSE value of AdaBoostRegressor:\",mean_squared_error(y_test, y_prediction))\n",
    "print(\"Mean absoulte error of AdaBoostRegressor\",mean_absolute_error(y_test, y_prediction))\n",
    "results_df8 = pd.DataFrame(data=[[\" AdaBoostRegressor \", *evaluate(y_test, y_prediction) ]], \n",
    "                            columns=['Model', 'MAE', 'MSE', 'RMSE', 'R2 Square'])\n",
    "results_df = results_df.append(results_df8, ignore_index=True)\n"
   ]
  },
  {
   "cell_type": "code",
   "execution_count": 180,
   "id": "6288d5ea",
   "metadata": {},
   "outputs": [
    {
     "name": "stdout",
     "output_type": "stream",
     "text": [
      "Training accuracy= 91.93542598031743\n",
      "Prediction R-Square accuracy = 0.919303610076128\n",
      "MAE: 36.897892821656036\n",
      "MSE: 3093.7212654203286\n",
      "RMSE: 55.621230347955525\n"
     ]
    }
   ],
   "source": [
    "#square root for AdaRegressor\n",
    "ABR=AdaBoostRegressor()\n",
    "ABR.fit(X_train_sqrt,y_train_sqrt)\n",
    "\n",
    "\n",
    "print('Training accuracy=',ABR.score(X_train_sqrt,y_train_sqrt)*100)\n",
    "pred = ABR.predict(X_test_sqrt)\n",
    "\n",
    "\n",
    "mae = metrics.mean_absolute_error(y_test_sqrt, pred)\n",
    "mse = metrics.mean_squared_error(y_test_sqrt, pred)\n",
    "rmse = np.sqrt(metrics.mean_squared_error(y_test_sqrt, pred))\n",
    "r2_square = metrics.r2_score(y_test_sqrt, pred)\n",
    "    \n",
    "print('Prediction R-Square accuracy =',r2_square)\n",
    "print('MAE:', mae)\n",
    "print('MSE:', mse)\n",
    "print('RMSE:',rmse)\n",
    "\n",
    "results_df9 = pd.DataFrame(data=[[\"AdaBoostRegressor sqrt\", *evaluate(y_test_sqrt, pred) ]], \n",
    "                            columns=['Model', 'MAE', 'MSE', 'RMSE', 'R2 Square'])\n",
    "results_df = results_df.append(results_df9, ignore_index=True)\n",
    "A=results_df8.append(results_df9, ignore_index=True)"
   ]
  },
  {
   "cell_type": "code",
   "execution_count": 181,
   "id": "9e0045dc",
   "metadata": {},
   "outputs": [
    {
     "data": {
      "text/plain": [
       "Text(0.5, 0, 'Accuracy')"
      ]
     },
     "execution_count": 181,
     "metadata": {},
     "output_type": "execute_result"
    },
    {
     "data": {
      "image/png": "[encoded data removed]",
      "text/plain": [
       "<Figure size 1080x360 with 1 Axes>"
      ]
     },
     "metadata": {},
     "output_type": "display_data"
    }
   ],
   "source": [
    "\n",
    "import seaborn as sns\n",
    "fig = plt.figure(figsize =(15, 5))\n",
    "\n",
    "sns.barplot(x=\"R2 Square\", y=\"Model\", data=A)\n",
    "plt.xlabel('Accuracy')\n"
   ]
  },
  {
   "cell_type": "markdown",
   "id": "e0e16f87",
   "metadata": {},
   "source": [
    "6.KNeighborsRegressor\n"
   ]
  },
  {
   "cell_type": "code",
   "execution_count": 162,
   "id": "1da010fe",
   "metadata": {},
   "outputs": [
    {
     "name": "stdout",
     "output_type": "stream",
     "text": [
      "KNeighborsRegressor Model validation score for sales prediction: 0.8630708271996068\n",
      "R2 score of  KNeighborsRegressor:  0.8051057372897185\n",
      "RMSE value of KNeighborsRegressor : 50938.2287886249\n",
      "MSE value of KNeighborsRegressor: 2594703152.122295\n",
      "Mean absoulte error of KNeighborsRegressor 13634.617774193552\n"
     ]
    }
   ],
   "source": [
    "\n",
    "from sklearn.neighbors import KNeighborsRegressor\n",
    "\n",
    "KNN=KNeighborsRegressor()\n",
    "\n",
    "KNN.fit(X_train,y_train)\n",
    "y_prediction=KNN.predict(X_test)#prediction using test sample\n",
    "\n",
    "\n",
    "print('KNeighborsRegressor Model validation score for sales prediction:', KNN.score(X_train,y_train))\n",
    "\n",
    "print('R2 score of  KNeighborsRegressor: ', r2_score(y_test, y_prediction))\n",
    "print(\"RMSE value of KNeighborsRegressor :\",sqrt(mean_squared_error(y_test, y_prediction)))\n",
    "print(\"MSE value of KNeighborsRegressor:\",mean_squared_error(y_test, y_prediction))\n",
    "print(\"Mean absoulte error of KNeighborsRegressor\",mean_absolute_error(y_test, y_prediction))\n",
    "results_df10 = pd.DataFrame(data=[[\" KNeighborsRegressor \", *evaluate(y_test, y_prediction) ]], \n",
    "                            columns=['Model', 'MAE', 'MSE', 'RMSE', 'R2 Square'])\n",
    "results_df = results_df.append(results_df10, ignore_index=True)\n",
    "\n"
   ]
  },
  {
   "cell_type": "code",
   "execution_count": 163,
   "id": "ef319f01",
   "metadata": {},
   "outputs": [
    {
     "name": "stdout",
     "output_type": "stream",
     "text": [
      "Training accuracy= 38.398242521133184\n",
      "Prediction R-Square accuracy = 0.25825542100554\n",
      "MAE: 84.8777156303411\n",
      "MSE: 28436.848038806333\n",
      "RMSE: 168.6322864661638\n"
     ]
    }
   ],
   "source": [
    "#square root for KNN\n",
    "KNN=KNeighborsRegressor()\n",
    "KNN.fit(X_train_sqrt,y_train_sqrt)\n",
    "\n",
    "\n",
    "print('Training accuracy=',KNN.score(X_train_sqrt,y_train_sqrt)*100)\n",
    "pred = KNN.predict(X_test_sqrt)\n",
    "\n",
    "\n",
    "mae = metrics.mean_absolute_error(y_test_sqrt, pred)\n",
    "mse = metrics.mean_squared_error(y_test_sqrt, pred)\n",
    "rmse = np.sqrt(metrics.mean_squared_error(y_test_sqrt, pred))\n",
    "r2_square = metrics.r2_score(y_test_sqrt, pred)\n",
    "    \n",
    "print('Prediction R-Square accuracy =',r2_square)\n",
    "print('MAE:', mae)\n",
    "print('MSE:', mse)\n",
    "print('RMSE:',rmse)\n",
    "\n",
    "results_df11 = pd.DataFrame(data=[[\"KNeighborsRegressor sqrt\", *evaluate(y_test_sqrt, pred) ]], \n",
    "                            columns=['Model', 'MAE', 'MSE', 'RMSE', 'R2 Square'])\n",
    "results_df = results_df.append(results_df11, ignore_index=True)\n",
    "K=results_df10.append(results_df11, ignore_index=True)\n"
   ]
  },
  {
   "cell_type": "code",
   "execution_count": 182,
   "id": "9bcbd80e",
   "metadata": {},
   "outputs": [
    {
     "data": {
      "text/plain": [
       "Text(0.5, 0, 'Accuracy')"
      ]
     },
     "execution_count": 182,
     "metadata": {},
     "output_type": "execute_result"
    },
    {
     "data": {
      "image/png": "[encoded data removed]",
      "text/plain": [
       "<Figure size 1080x360 with 1 Axes>"
      ]
     },
     "metadata": {},
     "output_type": "display_data"
    }
   ],
   "source": [
    "\n",
    "import seaborn as sns\n",
    "fig = plt.figure(figsize =(15, 5))\n",
    "\n",
    "sns.barplot(x=\"R2 Square\", y=\"Model\", data=K)\n",
    "plt.xlabel('Accuracy')\n"
   ]
  },
  {
   "cell_type": "code",
   "execution_count": 184,
   "id": "96bc33ef",
   "metadata": {},
   "outputs": [
    {
     "data": {
      "text/html": [
       "<div>\n",
       "<style scoped>\n",
       "    .dataframe tbody tr th:only-of-type {\n",
       "        vertical-align: middle;\n",
       "    }\n",
       "\n",
       "    .dataframe tbody tr th {\n",
       "        vertical-align: top;\n",
       "    }\n",
       "\n",
       "    .dataframe thead th {\n",
       "        text-align: right;\n",
       "    }\n",
       "</style>\n",
       "<table border=\"1\" class=\"dataframe\">\n",
       "  <thead>\n",
       "    <tr style=\"text-align: right;\">\n",
       "      <th></th>\n",
       "      <th>Model</th>\n",
       "      <th>MAE</th>\n",
       "      <th>MSE</th>\n",
       "      <th>RMSE</th>\n",
       "      <th>R2 Square</th>\n",
       "    </tr>\n",
       "  </thead>\n",
       "  <tbody>\n",
       "    <tr>\n",
       "      <th>0</th>\n",
       "      <td>Linear Regression</td>\n",
       "      <td>59784.77</td>\n",
       "      <td>12525174522.17</td>\n",
       "      <td>111915.93</td>\n",
       "      <td>0.06</td>\n",
       "    </tr>\n",
       "    <tr>\n",
       "      <th>1</th>\n",
       "      <td>Linear Regression sqrt</td>\n",
       "      <td>94.65</td>\n",
       "      <td>36310.94</td>\n",
       "      <td>190.55</td>\n",
       "      <td>0.05</td>\n",
       "    </tr>\n",
       "    <tr>\n",
       "      <th>2</th>\n",
       "      <td>Decision TreeRegression</td>\n",
       "      <td>6092.69</td>\n",
       "      <td>315636513.84</td>\n",
       "      <td>17766.16</td>\n",
       "      <td>0.98</td>\n",
       "    </tr>\n",
       "    <tr>\n",
       "      <th>3</th>\n",
       "      <td>DecisionTreeRegressor sqrt</td>\n",
       "      <td>35.59</td>\n",
       "      <td>3323.79</td>\n",
       "      <td>57.65</td>\n",
       "      <td>0.91</td>\n",
       "    </tr>\n",
       "    <tr>\n",
       "      <th>4</th>\n",
       "      <td>GradientBoostingRegressor</td>\n",
       "      <td>5742.46</td>\n",
       "      <td>301619274.50</td>\n",
       "      <td>17367.19</td>\n",
       "      <td>0.98</td>\n",
       "    </tr>\n",
       "    <tr>\n",
       "      <th>5</th>\n",
       "      <td>GradientBoostingRegressor sqrt</td>\n",
       "      <td>26.22</td>\n",
       "      <td>2240.21</td>\n",
       "      <td>47.33</td>\n",
       "      <td>0.94</td>\n",
       "    </tr>\n",
       "    <tr>\n",
       "      <th>6</th>\n",
       "      <td>BaggingRegressor</td>\n",
       "      <td>6745.30</td>\n",
       "      <td>390946279.38</td>\n",
       "      <td>19772.36</td>\n",
       "      <td>0.97</td>\n",
       "    </tr>\n",
       "    <tr>\n",
       "      <th>7</th>\n",
       "      <td>BaggingRegressor sqrt</td>\n",
       "      <td>31.84</td>\n",
       "      <td>2896.76</td>\n",
       "      <td>53.82</td>\n",
       "      <td>0.92</td>\n",
       "    </tr>\n",
       "    <tr>\n",
       "      <th>8</th>\n",
       "      <td>AdaBoostRegressor</td>\n",
       "      <td>6596.15</td>\n",
       "      <td>258812199.48</td>\n",
       "      <td>16087.64</td>\n",
       "      <td>0.98</td>\n",
       "    </tr>\n",
       "    <tr>\n",
       "      <th>9</th>\n",
       "      <td>AdaBoostRegressor sqrt</td>\n",
       "      <td>37.79</td>\n",
       "      <td>3146.33</td>\n",
       "      <td>56.09</td>\n",
       "      <td>0.92</td>\n",
       "    </tr>\n",
       "    <tr>\n",
       "      <th>10</th>\n",
       "      <td>KNeighborsRegressor</td>\n",
       "      <td>13634.62</td>\n",
       "      <td>2594703152.12</td>\n",
       "      <td>50938.23</td>\n",
       "      <td>0.81</td>\n",
       "    </tr>\n",
       "    <tr>\n",
       "      <th>11</th>\n",
       "      <td>KNeighborsRegressor sqrt</td>\n",
       "      <td>84.88</td>\n",
       "      <td>28436.85</td>\n",
       "      <td>168.63</td>\n",
       "      <td>0.26</td>\n",
       "    </tr>\n",
       "    <tr>\n",
       "      <th>12</th>\n",
       "      <td>AdaBoostRegressor sqrt</td>\n",
       "      <td>36.90</td>\n",
       "      <td>3093.72</td>\n",
       "      <td>55.62</td>\n",
       "      <td>0.92</td>\n",
       "    </tr>\n",
       "  </tbody>\n",
       "</table>\n",
       "</div>"
      ],
      "text/plain": [
       "                             Model      MAE            MSE      RMSE  \\\n",
       "0               Linear Regression  59784.77 12525174522.17 111915.93   \n",
       "1           Linear Regression sqrt    94.65       36310.94    190.55   \n",
       "2         Decision TreeRegression   6092.69   315636513.84  17766.16   \n",
       "3       DecisionTreeRegressor sqrt    35.59        3323.79     57.65   \n",
       "4       GradientBoostingRegressor   5742.46   301619274.50  17367.19   \n",
       "5   GradientBoostingRegressor sqrt    26.22        2240.21     47.33   \n",
       "6                BaggingRegressor   6745.30   390946279.38  19772.36   \n",
       "7            BaggingRegressor sqrt    31.84        2896.76     53.82   \n",
       "8               AdaBoostRegressor   6596.15   258812199.48  16087.64   \n",
       "9           AdaBoostRegressor sqrt    37.79        3146.33     56.09   \n",
       "10            KNeighborsRegressor  13634.62  2594703152.12  50938.23   \n",
       "11        KNeighborsRegressor sqrt    84.88       28436.85    168.63   \n",
       "12          AdaBoostRegressor sqrt    36.90        3093.72     55.62   \n",
       "\n",
       "    R2 Square  \n",
       "0        0.06  \n",
       "1        0.05  \n",
       "2        0.98  \n",
       "3        0.91  \n",
       "4        0.98  \n",
       "5        0.94  \n",
       "6        0.97  \n",
       "7        0.92  \n",
       "8        0.98  \n",
       "9        0.92  \n",
       "10       0.81  \n",
       "11       0.26  \n",
       "12       0.92  "
      ]
     },
     "execution_count": 184,
     "metadata": {},
     "output_type": "execute_result"
    }
   ],
   "source": [
    "results_df"
   ]
  },
  {
   "cell_type": "code",
   "execution_count": 166,
   "id": "c3fb4601",
   "metadata": {},
   "outputs": [
    {
     "data": {
      "text/plain": [
       "Text(0.5, 0, 'Accuracy')"
      ]
     },
     "execution_count": 166,
     "metadata": {},
     "output_type": "execute_result"
    },
    {
     "data": {
      "image/png": "[encoded data removed]",
      "text/plain": [
       "<Figure size 1080x360 with 1 Axes>"
      ]
     },
     "metadata": {},
     "output_type": "display_data"
    }
   ],
   "source": [
    "\n",
    "import seaborn as sns\n",
    "fig = plt.figure(figsize =(15, 5))\n",
    "\n",
    "sns.barplot(x=\"R2 Square\", y=\"Model\", data=results_df)\n",
    "plt.xlabel('Accuracy')\n"
   ]
  },
  {
   "cell_type": "code",
   "execution_count": 167,
   "id": "fe02b927",
   "metadata": {},
   "outputs": [
    {
     "name": "stdout",
     "output_type": "stream",
     "text": [
      "LinearRegression Model validation score for logistic performance prediction: 47.80524354062721\n",
      "R2 score of LinearRegression for logistic performance prediction:  47.80524354062721\n",
      "RMSE value of LinearRegression for logistic performance prediction: 15.283022865835143\n",
      "MSE value of LinearRegression for logistic performance prediction: 233.57078791763982\n",
      "Mean absoulte error of LinearRegression for logistic performance prediction: 10.064666093957092\n"
     ]
    },
    {
     "data": {
      "text/html": [
       "<div>\n",
       "<style scoped>\n",
       "    .dataframe tbody tr th:only-of-type {\n",
       "        vertical-align: middle;\n",
       "    }\n",
       "\n",
       "    .dataframe tbody tr th {\n",
       "        vertical-align: top;\n",
       "    }\n",
       "\n",
       "    .dataframe thead th {\n",
       "        text-align: right;\n",
       "    }\n",
       "</style>\n",
       "<table border=\"1\" class=\"dataframe\">\n",
       "  <thead>\n",
       "    <tr style=\"text-align: right;\">\n",
       "      <th></th>\n",
       "      <th>Model</th>\n",
       "      <th>MAE</th>\n",
       "      <th>MSE</th>\n",
       "      <th>RMSE</th>\n",
       "      <th>R2 Square</th>\n",
       "    </tr>\n",
       "  </thead>\n",
       "  <tbody>\n",
       "    <tr>\n",
       "      <th>0</th>\n",
       "      <td>Linear Regression_logistics</td>\n",
       "      <td>10.06</td>\n",
       "      <td>233.57</td>\n",
       "      <td>15.28</td>\n",
       "      <td>0.48</td>\n",
       "    </tr>\n",
       "  </tbody>\n",
       "</table>\n",
       "</div>"
      ],
      "text/plain": [
       "                          Model   MAE    MSE  RMSE  R2 Square\n",
       "0  Linear Regression_logistics  10.06 233.57 15.28       0.48"
      ]
     },
     "execution_count": 167,
     "metadata": {},
     "output_type": "execute_result"
    }
   ],
   "source": [
    "##logistics\n",
    "A=df[[\"Country\",\"Year\",\"Month\",\"PC.SALE\"]].values\n",
    "b=df[[\"Logistic_performance\"]].values\n",
    "A_train, A_test, b_train, b_test = train_test_split( A, b, test_size=0.2, random_state=42)\n",
    "LR1=LinearRegression()\n",
    "LR1.fit(A_train,b_train)\n",
    "b_prediction=LR1.predict(A_test)#prediction using test sample\n",
    "\n",
    "print('LinearRegression Model validation score for logistic performance prediction:', LR1.score(A_test,b_test)*100)\n",
    "print('R2 score of LinearRegression for logistic performance prediction: ', r2_score(b_test, b_prediction)*100)\n",
    "print(\"RMSE value of LinearRegression for logistic performance prediction:\",sqrt(mean_squared_error(b_test, b_prediction)))\n",
    "print(\"MSE value of LinearRegression for logistic performance prediction:\",mean_squared_error(b_test, b_prediction))\n",
    "print(\"Mean absoulte error of LinearRegression for logistic performance prediction:\",mean_absolute_error(b_test, b_prediction))\n",
    "results_df_logis = pd.DataFrame(data=[[\"Linear Regression_logistics \", *evaluate(b_test, b_prediction) ]], \n",
    "                            columns=['Model', 'MAE', 'MSE', 'RMSE', 'R2 Square'])\n",
    "results_df_logis"
   ]
  },
  {
   "cell_type": "code",
   "execution_count": 168,
   "id": "70433bb8",
   "metadata": {},
   "outputs": [
    {
     "name": "stdout",
     "output_type": "stream",
     "text": [
      "Decision TreeRegression Model validation score for logistic performance  prediction: 1.0\n",
      "R2 score of Decision TreeRegression model for logistic performance prediction:  0.9905614680446949\n",
      "RMSE value of Decision TreeRegression model for logistic performance prediction: 2.0551714131606165\n",
      "MSE value of Decision TreeRegression model for logistic performance prediction: 4.223729537472605\n",
      "Mean absoulte error of Decision TreeRegression model for logistic performance prediction: 1.2770580041826773\n"
     ]
    }
   ],
   "source": [
    "#decision tree\n",
    "DTR1=DecisionTreeRegressor()\n",
    "DTR1.fit(A_train,b_train)\n",
    "b_prediction=DTR1.predict(A_test)#prediction using test sample\n",
    "print('Decision TreeRegression Model validation score for logistic performance  prediction:',DTR1.score(A_train,b_train))\n",
    "print('R2 score of Decision TreeRegression model for logistic performance prediction: ', r2_score(b_test, b_prediction))\n",
    "print(\"RMSE value of Decision TreeRegression model for logistic performance prediction:\",sqrt(mean_squared_error(b_test, b_prediction)))\n",
    "print(\"MSE value of Decision TreeRegression model for logistic performance prediction:\",mean_squared_error(b_test, b_prediction))\n",
    "print(\"Mean absoulte error of Decision TreeRegression model for logistic performance prediction:\",mean_absolute_error(b_test, b_prediction))\n",
    "results_df_logis1 = pd.DataFrame(data=[[\"Decision TreeRegression_logistics \", *evaluate(b_test, b_prediction) ]], \n",
    "                            columns=['Model', 'MAE', 'MSE', 'RMSE', 'R2 Square'])\n",
    "results_df_logis = results_df_logis.append(results_df_logis1, ignore_index=True)\n"
   ]
  },
  {
   "cell_type": "code",
   "execution_count": 169,
   "id": "069b85dd",
   "metadata": {},
   "outputs": [
    {
     "name": "stdout",
     "output_type": "stream",
     "text": [
      "GradientBoostingRegressor Model validation score for logistic performance  prediction: 0.9991969663892237\n",
      "R2 score of GradientBoostingRegressor model for logistic performance prediction:  0.9925437823812469\n",
      "RMSE value of GradientBoostingRegressor model for logistic performance prediction: 1.8266490384895775\n",
      "MSE value of GradientBoostingRegressor model for logistic performance prediction: 3.336646709814898\n",
      "Mean absoulte error of GradientBoostingRegressor model for logistic performance prediction: 1.1448978522695836\n"
     ]
    }
   ],
   "source": [
    "#gradient\n",
    "GBR1=GradientBoostingRegressor()\n",
    "GBR1.fit(A_train,b_train)\n",
    "b_prediction=GBR1.predict(A_test)#prediction using test sample\n",
    "print('GradientBoostingRegressor Model validation score for logistic performance  prediction:',GBR1.score(A_train,b_train))\n",
    "print('R2 score of GradientBoostingRegressor model for logistic performance prediction: ', r2_score(b_test, b_prediction))\n",
    "print(\"RMSE value of GradientBoostingRegressor model for logistic performance prediction:\",sqrt(mean_squared_error(b_test, b_prediction)))\n",
    "print(\"MSE value of GradientBoostingRegressor model for logistic performance prediction:\",mean_squared_error(b_test, b_prediction))\n",
    "print(\"Mean absoulte error of GradientBoostingRegressor model for logistic performance prediction:\",mean_absolute_error(b_test, b_prediction))\n",
    "results_df_logis2 = pd.DataFrame(data=[[\"GradientBoostingRegressor_logistics \", *evaluate(b_test, b_prediction) ]], \n",
    "                            columns=['Model', 'MAE', 'MSE', 'RMSE', 'R2 Square'])\n",
    "results_df_logis = results_df_logis.append(results_df_logis2, ignore_index=True)\n"
   ]
  },
  {
   "cell_type": "code",
   "execution_count": 170,
   "id": "afb1ebd4",
   "metadata": {},
   "outputs": [
    {
     "name": "stdout",
     "output_type": "stream",
     "text": [
      "BaggingRegressor Model validation score for logistic performance  prediction: 0.9686813408591127\n",
      "R2 score of BaggingRegressor model for logistic performance prediction:  0.978852080133003\n",
      "RMSE value of BaggingRegressor model for logistic performance prediction: 3.076306854719316\n",
      "MSE value of BaggingRegressor model for logistic performance prediction: 9.46366386439305\n",
      "Mean absoulte error of BaggingRegressor model for logistic performance prediction: 1.5129388544086515\n"
     ]
    }
   ],
   "source": [
    "#bagging\n",
    "BR1=BaggingRegressor()\n",
    "BR1.fit(A_train,b_train)\n",
    "b_prediction=BR1.predict(A_test)#prediction using test sample\n",
    "print('BaggingRegressor Model validation score for logistic performance  prediction:',BR1.score(A_train,b_train))\n",
    "print('R2 score of BaggingRegressor model for logistic performance prediction: ', r2_score(b_test, b_prediction))\n",
    "print(\"RMSE value of BaggingRegressor model for logistic performance prediction:\",sqrt(mean_squared_error(b_test, b_prediction)))\n",
    "print(\"MSE value of BaggingRegressor model for logistic performance prediction:\",mean_squared_error(b_test, b_prediction))\n",
    "print(\"Mean absoulte error of BaggingRegressor model for logistic performance prediction:\",mean_absolute_error(b_test, b_prediction))\n",
    "results_df_logis3 = pd.DataFrame(data=[[\" BaggingRegressor \", *evaluate(b_test, b_prediction) ]], \n",
    "                            columns=['Model', 'MAE', 'MSE', 'RMSE', 'R2 Square'])\n",
    "results_df_logis = results_df_logis.append(results_df_logis3, ignore_index=True)\n"
   ]
  },
  {
   "cell_type": "code",
   "execution_count": 171,
   "id": "386507c8",
   "metadata": {},
   "outputs": [
    {
     "name": "stdout",
     "output_type": "stream",
     "text": [
      "AdaBoostRegressor Model validation score for logistic performance  prediction: 0.9910356486483552\n",
      "R2 score of  AdaBoostRegressor:  0.9865746315601962\n",
      "RMSE value of AdaBoostRegressor : 2.4510881576544343\n",
      "MSE value of AdaBoostRegressor: 6.007833156593809\n",
      "Mean absoulte error of AdaBoostRegressor 1.9521591541677739\n"
     ]
    }
   ],
   "source": [
    "\n",
    "from sklearn.ensemble import AdaBoostRegressor\n",
    "\n",
    "ABR=AdaBoostRegressor()\n",
    "\n",
    "ABR.fit(A_train,b_train)\n",
    "b_prediction=ABR.predict(A_test)#prediction using test sample\n",
    "\n",
    "\n",
    "print('AdaBoostRegressor Model validation score for logistic performance  prediction:', ABR.score(A_train,b_train))\n",
    "\n",
    "print('R2 score of  AdaBoostRegressor: ', r2_score(b_test, b_prediction))\n",
    "print(\"RMSE value of AdaBoostRegressor :\",sqrt(mean_squared_error(b_test, b_prediction)))\n",
    "print(\"MSE value of AdaBoostRegressor:\",mean_squared_error(b_test, b_prediction))\n",
    "print(\"Mean absoulte error of AdaBoostRegressor\",mean_absolute_error(b_test, b_prediction))\n",
    "results_df_logis4 = pd.DataFrame(data=[[\" AdaBoostRegressor \", *evaluate(b_test, b_prediction) ]], \n",
    "                            columns=['Model', 'MAE', 'MSE', 'RMSE', 'R2 Square'])\n",
    "results_df_logis = results_df_logis.append(results_df_logis4, ignore_index=True)\n"
   ]
  },
  {
   "cell_type": "code",
   "execution_count": 172,
   "id": "ef9d099a",
   "metadata": {},
   "outputs": [
    {
     "name": "stdout",
     "output_type": "stream",
     "text": [
      "KNeighborsRegressor Model validation score for logistic performance  prediction: 0.4702490179600902\n",
      "R2 score of  KNeighborsRegressor:  0.29981561519449584\n",
      "RMSE value of KNeighborsRegressor : 17.701172554168792\n",
      "MSE value of KNeighborsRegressor: 313.3315097924585\n",
      "Mean absoulte error of KNeighborsRegressor 12.140655699935738\n"
     ]
    }
   ],
   "source": [
    "\n",
    "from sklearn.neighbors import KNeighborsRegressor\n",
    "\n",
    "KNN=KNeighborsRegressor()\n",
    "\n",
    "KNN.fit(A_train,b_train)\n",
    "b_prediction=KNN.predict(A_test)#prediction using test sample\n",
    "\n",
    "\n",
    "print('KNeighborsRegressor Model validation score for logistic performance  prediction:', KNN.score(A_train,b_train))\n",
    "\n",
    "print('R2 score of  KNeighborsRegressor: ', r2_score(b_test, b_prediction))\n",
    "print(\"RMSE value of KNeighborsRegressor :\",sqrt(mean_squared_error(b_test, b_prediction)))\n",
    "print(\"MSE value of KNeighborsRegressor:\",mean_squared_error(b_test, b_prediction))\n",
    "print(\"Mean absoulte error of KNeighborsRegressor\",mean_absolute_error(b_test, b_prediction))\n",
    "results_df_logis5 = pd.DataFrame(data=[[\" KNeighborsRegressor \", *evaluate(b_test, b_prediction) ]], \n",
    "                            columns=['Model', 'MAE', 'MSE', 'RMSE', 'R2 Square'])\n",
    "results_df_logis = results_df_logis.append(results_df_logis5, ignore_index=True)\n",
    "\n",
    "\n",
    "\n"
   ]
  },
  {
   "cell_type": "code",
   "execution_count": 173,
   "id": "0fb2ef67",
   "metadata": {},
   "outputs": [
    {
     "data": {
      "text/plain": [
       "Text(0.5, 0, 'Accuracy')"
      ]
     },
     "execution_count": 173,
     "metadata": {},
     "output_type": "execute_result"
    },
    {
     "data": {
      "image/png": "[encoded data removed]",
      "text/plain": [
       "<Figure size 1080x360 with 1 Axes>"
      ]
     },
     "metadata": {},
     "output_type": "display_data"
    }
   ],
   "source": [
    "#logistics model\n",
    "results_df_logis\n",
    "import seaborn as sns\n",
    "fig = plt.figure(figsize =(15, 5))\n",
    "\n",
    "sns.barplot(x=\"R2 Square\", y=\"Model\", data=results_df_logis)\n",
    "plt.xlabel('Accuracy')\n"
   ]
  },
  {
   "cell_type": "code",
   "execution_count": 190,
   "id": "94ffc031",
   "metadata": {},
   "outputs": [
    {
     "data": {
      "text/html": [
       "<div>\n",
       "<style scoped>\n",
       "    .dataframe tbody tr th:only-of-type {\n",
       "        vertical-align: middle;\n",
       "    }\n",
       "\n",
       "    .dataframe tbody tr th {\n",
       "        vertical-align: top;\n",
       "    }\n",
       "\n",
       "    .dataframe thead th {\n",
       "        text-align: right;\n",
       "    }\n",
       "</style>\n",
       "<table border=\"1\" class=\"dataframe\">\n",
       "  <thead>\n",
       "    <tr style=\"text-align: right;\">\n",
       "      <th></th>\n",
       "      <th>Model</th>\n",
       "      <th>MAE</th>\n",
       "      <th>MSE</th>\n",
       "      <th>RMSE</th>\n",
       "      <th>R2 Square</th>\n",
       "    </tr>\n",
       "  </thead>\n",
       "  <tbody>\n",
       "    <tr>\n",
       "      <th>0</th>\n",
       "      <td>Linear Regression_logistics</td>\n",
       "      <td>10.06</td>\n",
       "      <td>233.57</td>\n",
       "      <td>15.28</td>\n",
       "      <td>0.48</td>\n",
       "    </tr>\n",
       "    <tr>\n",
       "      <th>1</th>\n",
       "      <td>Decision TreeRegression_logistics</td>\n",
       "      <td>1.28</td>\n",
       "      <td>4.22</td>\n",
       "      <td>2.06</td>\n",
       "      <td>0.99</td>\n",
       "    </tr>\n",
       "    <tr>\n",
       "      <th>2</th>\n",
       "      <td>GradientBoostingRegressor_logistics</td>\n",
       "      <td>1.14</td>\n",
       "      <td>3.34</td>\n",
       "      <td>1.83</td>\n",
       "      <td>0.99</td>\n",
       "    </tr>\n",
       "    <tr>\n",
       "      <th>3</th>\n",
       "      <td>BaggingRegressor</td>\n",
       "      <td>1.51</td>\n",
       "      <td>9.46</td>\n",
       "      <td>3.08</td>\n",
       "      <td>0.98</td>\n",
       "    </tr>\n",
       "    <tr>\n",
       "      <th>4</th>\n",
       "      <td>AdaBoostRegressor</td>\n",
       "      <td>1.95</td>\n",
       "      <td>6.01</td>\n",
       "      <td>2.45</td>\n",
       "      <td>0.99</td>\n",
       "    </tr>\n",
       "    <tr>\n",
       "      <th>5</th>\n",
       "      <td>KNeighborsRegressor</td>\n",
       "      <td>12.14</td>\n",
       "      <td>313.33</td>\n",
       "      <td>17.70</td>\n",
       "      <td>0.30</td>\n",
       "    </tr>\n",
       "  </tbody>\n",
       "</table>\n",
       "</div>"
      ],
      "text/plain": [
       "                                  Model   MAE    MSE  RMSE  R2 Square\n",
       "0          Linear Regression_logistics  10.06 233.57 15.28       0.48\n",
       "1    Decision TreeRegression_logistics   1.28   4.22  2.06       0.99\n",
       "2  GradientBoostingRegressor_logistics   1.14   3.34  1.83       0.99\n",
       "3                     BaggingRegressor   1.51   9.46  3.08       0.98\n",
       "4                    AdaBoostRegressor   1.95   6.01  2.45       0.99\n",
       "5                  KNeighborsRegressor  12.14 313.33 17.70       0.30"
      ]
     },
     "execution_count": 190,
     "metadata": {},
     "output_type": "execute_result"
    }
   ],
   "source": [
    "results_df_logis"
   ]
  },
  {
   "cell_type": "code",
   "execution_count": 174,
   "id": "64b5b944",
   "metadata": {},
   "outputs": [
    {
     "name": "stderr",
     "output_type": "stream",
     "text": [
      " 29%|███████████████████████▍                                                          | 12/42 [00:00<00:01, 28.12it/s]"
     ]
    },
    {
     "name": "stdout",
     "output_type": "stream",
     "text": [
      "GammaRegressor model failed to execute\n",
      "Some value(s) of y are out of the valid range for family GammaDistribution\n"
     ]
    },
    {
     "name": "stderr",
     "output_type": "stream",
     "text": [
      "100%|██████████████████████████████████████████████████████████████████████████████████| 42/42 [00:02<00:00, 17.60it/s]"
     ]
    },
    {
     "name": "stdout",
     "output_type": "stream",
     "text": [
      "                               Adjusted R-Squared  R-Squared      RMSE  \\\n",
      "Model                                                                    \n",
      "GradientBoostingRegressor                    0.98       0.98  17369.13   \n",
      "DecisionTreeRegressor                        0.97       0.97  19054.96   \n",
      "BaggingRegressor                             0.96       0.96  22943.16   \n",
      "AdaBoostRegressor                            0.95       0.95  25207.27   \n",
      "ExtraTreesRegressor                          0.94       0.95  26474.35   \n",
      "RandomForestRegressor                        0.94       0.94  28665.08   \n",
      "XGBRegressor                                 0.82       0.83  47254.86   \n",
      "ExtraTreeRegressor                           0.63       0.65  68661.31   \n",
      "KNeighborsRegressor                          0.52       0.55  77801.36   \n",
      "PoissonRegressor                             0.50       0.52  79813.18   \n",
      "GaussianProcessRegressor                     0.44       0.47  84390.02   \n",
      "ElasticNet                                   0.03       0.08 110775.91   \n",
      "TweedieRegressor                             0.02       0.07 111109.33   \n",
      "LassoCV                                      0.02       0.07 111261.99   \n",
      "LarsCV                                       0.02       0.07 111302.11   \n",
      "LassoLarsCV                                  0.02       0.07 111302.11   \n",
      "LassoLarsIC                                  0.02       0.07 111419.54   \n",
      "RidgeCV                                      0.02       0.06 111657.18   \n",
      "Ridge                                        0.01       0.06 111887.58   \n",
      "LassoLars                                    0.01       0.06 111912.80   \n",
      "Lasso                                        0.01       0.06 111915.75   \n",
      "LinearRegression                             0.01       0.06 111915.93   \n",
      "TransformedTargetRegressor                   0.01       0.06 111915.93   \n",
      "Lars                                         0.01       0.06 111915.93   \n",
      "SGDRegressor                                 0.01       0.06 111956.24   \n",
      "OrthogonalMatchingPursuit                    0.01       0.06 112142.41   \n",
      "OrthogonalMatchingPursuitCV                  0.01       0.06 112142.41   \n",
      "KernelRidge                                 -0.04       0.01 114948.23   \n",
      "ElasticNetCV                                -0.05       0.00 115354.59   \n",
      "BayesianRidge                               -0.06      -0.00 115639.31   \n",
      "DummyRegressor                              -0.06      -0.00 115639.31   \n",
      "HuberRegressor                              -0.09      -0.03 117364.48   \n",
      "NuSVR                                       -0.09      -0.03 117372.26   \n",
      "PassiveAggressiveRegressor                  -0.09      -0.04 117428.03   \n",
      "QuantileRegressor                           -0.09      -0.04 117614.17   \n",
      "SVR                                         -0.09      -0.04 117621.64   \n",
      "RANSACRegressor                             -0.10      -0.04 117745.17   \n",
      "LinearSVR                                   -0.10      -0.05 117997.62   \n",
      "MLPRegressor                                -0.10      -0.05 118030.95   \n",
      "LGBMRegressor                               -0.10      -0.05 118183.02   \n",
      "HistGradientBoostingRegressor               -0.11      -0.05 118405.72   \n",
      "\n",
      "                               Time Taken  \n",
      "Model                                      \n",
      "GradientBoostingRegressor            0.04  \n",
      "DecisionTreeRegressor                0.01  \n",
      "BaggingRegressor                     0.02  \n",
      "AdaBoostRegressor                    0.03  \n",
      "ExtraTreesRegressor                  0.11  \n",
      "RandomForestRegressor                0.17  \n",
      "XGBRegressor                         0.19  \n",
      "ExtraTreeRegressor                   0.01  \n",
      "KNeighborsRegressor                  0.02  \n",
      "PoissonRegressor                     0.01  \n",
      "GaussianProcessRegressor             0.06  \n",
      "ElasticNet                           0.03  \n",
      "TweedieRegressor                     0.01  \n",
      "LassoCV                              0.08  \n",
      "LarsCV                               0.02  \n",
      "LassoLarsCV                          0.02  \n",
      "LassoLarsIC                          0.01  \n",
      "RidgeCV                              0.01  \n",
      "Ridge                                0.01  \n",
      "LassoLars                            0.01  \n",
      "Lasso                                0.01  \n",
      "LinearRegression                     0.01  \n",
      "TransformedTargetRegressor           0.01  \n",
      "Lars                                 0.02  \n",
      "SGDRegressor                         0.00  \n",
      "OrthogonalMatchingPursuit            0.01  \n",
      "OrthogonalMatchingPursuitCV          0.01  \n",
      "KernelRidge                          0.04  \n",
      "ElasticNetCV                         0.06  \n",
      "BayesianRidge                        0.01  \n",
      "DummyRegressor                       0.01  \n",
      "HuberRegressor                       0.02  \n",
      "NuSVR                                0.01  \n",
      "PassiveAggressiveRegressor           0.01  \n",
      "QuantileRegressor                    0.50  \n",
      "SVR                                  0.02  \n",
      "RANSACRegressor                      0.03  \n",
      "LinearSVR                            0.02  \n",
      "MLPRegressor                         0.34  \n",
      "LGBMRegressor                        0.07  \n",
      "HistGradientBoostingRegressor        0.28  \n"
     ]
    },
    {
     "name": "stderr",
     "output_type": "stream",
     "text": [
      "\n"
     ]
    }
   ],
   "source": [
    "#sales\n",
    "from lazypredict.Supervised import LazyRegressor\n",
    "from sklearn.utils import shuffle\n",
    "\n",
    "X = X.astype(np.float32)\n",
    "\n",
    "reg = LazyRegressor(verbose=0, ignore_warnings=False, custom_metric=None)\n",
    "\n",
    "models, predictions = reg.fit(X_train, X_test, y_train, y_test)\n",
    "\n",
    "print(models)\n",
    "\n"
   ]
  },
  {
   "cell_type": "code",
   "execution_count": 175,
   "id": "3c3a3a72",
   "metadata": {},
   "outputs": [
    {
     "name": "stderr",
     "output_type": "stream",
     "text": [
      " 29%|███████████████████████▍                                                          | 12/42 [00:00<00:01, 24.98it/s]"
     ]
    },
    {
     "name": "stdout",
     "output_type": "stream",
     "text": [
      "GammaRegressor model failed to execute\n",
      "Some value(s) of y are out of the valid range for family GammaDistribution\n"
     ]
    },
    {
     "name": "stderr",
     "output_type": "stream",
     "text": [
      "100%|██████████████████████████████████████████████████████████████████████████████████| 42/42 [00:02<00:00, 17.89it/s]"
     ]
    },
    {
     "name": "stdout",
     "output_type": "stream",
     "text": [
      "                               Adjusted R-Squared  R-Squared      RMSE  \\\n",
      "Model                                                                    \n",
      "GradientBoostingRegressor                    0.98       0.98  17369.13   \n",
      "DecisionTreeRegressor                        0.97       0.97  19054.96   \n",
      "BaggingRegressor                             0.96       0.96  22943.16   \n",
      "AdaBoostRegressor                            0.95       0.95  25207.27   \n",
      "ExtraTreesRegressor                          0.94       0.95  26474.35   \n",
      "RandomForestRegressor                        0.94       0.94  28665.08   \n",
      "XGBRegressor                                 0.82       0.83  47254.86   \n",
      "ExtraTreeRegressor                           0.63       0.65  68661.31   \n",
      "KNeighborsRegressor                          0.52       0.55  77801.36   \n",
      "PoissonRegressor                             0.50       0.52  79813.18   \n",
      "GaussianProcessRegressor                     0.44       0.47  84390.02   \n",
      "ElasticNet                                   0.03       0.08 110775.91   \n",
      "TweedieRegressor                             0.02       0.07 111109.33   \n",
      "LassoCV                                      0.02       0.07 111261.99   \n",
      "LarsCV                                       0.02       0.07 111302.11   \n",
      "LassoLarsCV                                  0.02       0.07 111302.11   \n",
      "LassoLarsIC                                  0.02       0.07 111419.54   \n",
      "RidgeCV                                      0.02       0.06 111657.18   \n",
      "Ridge                                        0.01       0.06 111887.58   \n",
      "LassoLars                                    0.01       0.06 111912.80   \n",
      "Lasso                                        0.01       0.06 111915.75   \n",
      "LinearRegression                             0.01       0.06 111915.93   \n",
      "TransformedTargetRegressor                   0.01       0.06 111915.93   \n",
      "Lars                                         0.01       0.06 111915.93   \n",
      "SGDRegressor                                 0.01       0.06 111956.24   \n",
      "OrthogonalMatchingPursuit                    0.01       0.06 112142.41   \n",
      "OrthogonalMatchingPursuitCV                  0.01       0.06 112142.41   \n",
      "KernelRidge                                 -0.04       0.01 114948.23   \n",
      "ElasticNetCV                                -0.05       0.00 115354.59   \n",
      "BayesianRidge                               -0.06      -0.00 115639.31   \n",
      "DummyRegressor                              -0.06      -0.00 115639.31   \n",
      "HuberRegressor                              -0.09      -0.03 117364.48   \n",
      "NuSVR                                       -0.09      -0.03 117372.26   \n",
      "PassiveAggressiveRegressor                  -0.09      -0.04 117428.03   \n",
      "QuantileRegressor                           -0.09      -0.04 117614.17   \n",
      "SVR                                         -0.09      -0.04 117621.64   \n",
      "RANSACRegressor                             -0.10      -0.04 117745.17   \n",
      "LinearSVR                                   -0.10      -0.05 117997.62   \n",
      "MLPRegressor                                -0.10      -0.05 118030.95   \n",
      "LGBMRegressor                               -0.10      -0.05 118183.02   \n",
      "HistGradientBoostingRegressor               -0.11      -0.05 118405.72   \n",
      "\n",
      "                               Time Taken  \n",
      "Model                                      \n",
      "GradientBoostingRegressor            0.07  \n",
      "DecisionTreeRegressor                0.01  \n",
      "BaggingRegressor                     0.03  \n",
      "AdaBoostRegressor                    0.04  \n",
      "ExtraTreesRegressor                  0.14  \n",
      "RandomForestRegressor                0.19  \n",
      "XGBRegressor                         0.15  \n",
      "ExtraTreeRegressor                   0.01  \n",
      "KNeighborsRegressor                  0.02  \n",
      "PoissonRegressor                     0.01  \n",
      "GaussianProcessRegressor             0.02  \n",
      "ElasticNet                           0.01  \n",
      "TweedieRegressor                     0.01  \n",
      "LassoCV                              0.08  \n",
      "LarsCV                               0.02  \n",
      "LassoLarsCV                          0.02  \n",
      "LassoLarsIC                          0.01  \n",
      "RidgeCV                              0.01  \n",
      "Ridge                                0.01  \n",
      "LassoLars                            0.01  \n",
      "Lasso                                0.01  \n",
      "LinearRegression                     0.01  \n",
      "TransformedTargetRegressor           0.01  \n",
      "Lars                                 0.01  \n",
      "SGDRegressor                         0.01  \n",
      "OrthogonalMatchingPursuit            0.01  \n",
      "OrthogonalMatchingPursuitCV          0.01  \n",
      "KernelRidge                          0.02  \n",
      "ElasticNetCV                         0.08  \n",
      "BayesianRidge                        0.01  \n",
      "DummyRegressor                       0.01  \n",
      "HuberRegressor                       0.02  \n",
      "NuSVR                                0.01  \n",
      "PassiveAggressiveRegressor           0.01  \n",
      "QuantileRegressor                    0.46  \n",
      "SVR                                  0.01  \n",
      "RANSACRegressor                      0.04  \n",
      "LinearSVR                            0.01  \n",
      "MLPRegressor                         0.35  \n",
      "LGBMRegressor                        0.05  \n",
      "HistGradientBoostingRegressor        0.30  \n"
     ]
    },
    {
     "name": "stderr",
     "output_type": "stream",
     "text": [
      "\n"
     ]
    }
   ],
   "source": [
    "from lazypredict.Supervised import LazyRegressor\n",
    "from sklearn.utils import shuffle\n",
    "\n",
    "X = X.astype(np.float32)\n",
    "\n",
    "\n",
    "reg = LazyRegressor(verbose=0, ignore_warnings=False, custom_metric=None)\n",
    "models, predictions = reg.fit(X_train, X_test, y_train, y_test)\n",
    "\n",
    "print(models)\n"
   ]
  },
  {
   "cell_type": "code",
   "execution_count": 176,
   "id": "5329ad3b",
   "metadata": {},
   "outputs": [
    {
     "name": "stderr",
     "output_type": "stream",
     "text": [
      " 24%|███████████████████▌                                                              | 10/42 [00:00<00:01, 29.00it/s]"
     ]
    },
    {
     "name": "stdout",
     "output_type": "stream",
     "text": [
      "GammaRegressor model failed to execute\n",
      "Some value(s) of y are out of the valid range for family GammaDistribution\n"
     ]
    },
    {
     "name": "stderr",
     "output_type": "stream",
     "text": [
      "100%|██████████████████████████████████████████████████████████████████████████████████| 42/42 [00:02<00:00, 20.70it/s]"
     ]
    },
    {
     "name": "stdout",
     "output_type": "stream",
     "text": [
      "                               Adjusted R-Squared  R-Squared   RMSE  \\\n",
      "Model                                                                 \n",
      "GradientBoostingRegressor                    0.94       0.94  47.30   \n",
      "RandomForestRegressor                        0.92       0.93  52.74   \n",
      "XGBRegressor                                 0.92       0.92  54.23   \n",
      "AdaBoostRegressor                            0.92       0.92  55.39   \n",
      "DecisionTreeRegressor                        0.91       0.91  58.00   \n",
      "ExtraTreesRegressor                          0.90       0.91  59.37   \n",
      "BaggingRegressor                             0.88       0.89  65.73   \n",
      "ExtraTreeRegressor                           0.75       0.76  96.77   \n",
      "KNeighborsRegressor                          0.23       0.26 168.80   \n",
      "LGBMRegressor                                0.09       0.12 183.26   \n",
      "HistGradientBoostingRegressor                0.09       0.12 183.51   \n",
      "PoissonRegressor                             0.05       0.08 187.93   \n",
      "OrthogonalMatchingPursuitCV                  0.04       0.07 188.92   \n",
      "OrthogonalMatchingPursuit                    0.04       0.07 188.92   \n",
      "LassoCV                                      0.02       0.05 190.42   \n",
      "LassoLarsCV                                  0.02       0.05 190.43   \n",
      "LarsCV                                       0.02       0.05 190.43   \n",
      "Lasso                                        0.02       0.05 190.50   \n",
      "LinearRegression                             0.02       0.05 190.55   \n",
      "Lars                                         0.02       0.05 190.55   \n",
      "TransformedTargetRegressor                   0.02       0.05 190.55   \n",
      "SGDRegressor                                 0.02       0.05 190.57   \n",
      "Ridge                                        0.02       0.05 190.57   \n",
      "RidgeCV                                      0.02       0.05 190.75   \n",
      "LassoLarsIC                                  0.01       0.05 191.13   \n",
      "BayesianRidge                                0.01       0.04 191.49   \n",
      "ElasticNetCV                                 0.01       0.04 191.73   \n",
      "LassoLars                                    0.00       0.03 192.36   \n",
      "ElasticNet                                   0.00       0.03 192.37   \n",
      "TweedieRegressor                            -0.01       0.02 193.56   \n",
      "DummyRegressor                              -0.06      -0.03 198.27   \n",
      "NuSVR                                       -0.11      -0.08 203.16   \n",
      "HuberRegressor                              -0.12      -0.09 204.22   \n",
      "PassiveAggressiveRegressor                  -0.13      -0.10 205.01   \n",
      "SVR                                         -0.14      -0.11 205.84   \n",
      "QuantileRegressor                           -0.15      -0.11 206.22   \n",
      "RANSACRegressor                             -0.15      -0.11 206.53   \n",
      "LinearSVR                                   -0.16      -0.12 207.40   \n",
      "MLPRegressor                                -0.19      -0.15 209.72   \n",
      "KernelRidge                                 -0.26      -0.22 216.27   \n",
      "GaussianProcessRegressor                    -1.91      -1.82 328.61   \n",
      "\n",
      "                               Time Taken  \n",
      "Model                                      \n",
      "GradientBoostingRegressor            0.04  \n",
      "RandomForestRegressor                0.17  \n",
      "XGBRegressor                         0.15  \n",
      "AdaBoostRegressor                    0.05  \n",
      "DecisionTreeRegressor                0.01  \n",
      "ExtraTreesRegressor                  0.12  \n",
      "BaggingRegressor                     0.03  \n",
      "ExtraTreeRegressor                   0.01  \n",
      "KNeighborsRegressor                  0.02  \n",
      "LGBMRegressor                        0.05  \n",
      "HistGradientBoostingRegressor        0.25  \n",
      "PoissonRegressor                     0.01  \n",
      "OrthogonalMatchingPursuitCV          0.01  \n",
      "OrthogonalMatchingPursuit            0.01  \n",
      "LassoCV                              0.07  \n",
      "LassoLarsCV                          0.02  \n",
      "LarsCV                               0.03  \n",
      "Lasso                                0.01  \n",
      "LinearRegression                     0.01  \n",
      "Lars                                 0.02  \n",
      "TransformedTargetRegressor           0.01  \n",
      "SGDRegressor                         0.00  \n",
      "Ridge                                0.01  \n",
      "RidgeCV                              0.01  \n",
      "LassoLarsIC                          0.01  \n",
      "BayesianRidge                        0.01  \n",
      "ElasticNetCV                         0.08  \n",
      "LassoLars                            0.01  \n",
      "ElasticNet                           0.01  \n",
      "TweedieRegressor                     0.01  \n",
      "DummyRegressor                       0.01  \n",
      "NuSVR                                0.01  \n",
      "HuberRegressor                       0.02  \n",
      "PassiveAggressiveRegressor           0.01  \n",
      "SVR                                  0.02  \n",
      "QuantileRegressor                    0.32  \n",
      "RANSACRegressor                      0.04  \n",
      "LinearSVR                            0.01  \n",
      "MLPRegressor                         0.33  \n",
      "KernelRidge                          0.01  \n",
      "GaussianProcessRegressor             0.01  \n"
     ]
    },
    {
     "name": "stderr",
     "output_type": "stream",
     "text": [
      "\n"
     ]
    }
   ],
   "source": [
    "#squart root\n",
    "from lazypredict.Supervised import LazyRegressor\n",
    "from sklearn.utils import shuffle\n",
    "\n",
    "X = X.astype(np.float32)\n",
    "\n",
    "\n",
    "reg = LazyRegressor(verbose=0, ignore_warnings=False, custom_metric=None)\n",
    "squreroot_models, predictions = reg.fit(X_train_sqrt, X_test_sqrt, y_train_sqrt, y_test_sqrt)\n",
    "\n",
    "print(squreroot_models)\n"
   ]
  },
  {
   "cell_type": "markdown",
   "id": "2b254095",
   "metadata": {},
   "source": [
    "# predicting Logistics\n"
   ]
  },
  {
   "cell_type": "code",
   "execution_count": 177,
   "id": "b9613df7",
   "metadata": {},
   "outputs": [
    {
     "name": "stderr",
     "output_type": "stream",
     "text": [
      " 19%|███████████████▊                                                                   | 8/42 [00:00<00:00, 41.98it/s]"
     ]
    },
    {
     "name": "stdout",
     "output_type": "stream",
     "text": [
      "GammaRegressor model failed to execute\n",
      "Some value(s) of y are out of the valid range for family GammaDistribution\n"
     ]
    },
    {
     "name": "stderr",
     "output_type": "stream",
     "text": [
      "100%|██████████████████████████████████████████████████████████████████████████████████| 42/42 [00:02<00:00, 17.62it/s]"
     ]
    },
    {
     "name": "stdout",
     "output_type": "stream",
     "text": [
      "                               Adjusted R-Squared  R-Squared   RMSE  \\\n",
      "Model                                                                 \n",
      "ExtraTreesRegressor                          1.00       1.00   1.37   \n",
      "XGBRegressor                                 0.99       0.99   1.73   \n",
      "DecisionTreeRegressor                        0.99       0.99   1.81   \n",
      "GradientBoostingRegressor                    0.99       0.99   1.83   \n",
      "BaggingRegressor                             0.99       0.99   2.01   \n",
      "RandomForestRegressor                        0.98       0.98   2.88   \n",
      "ExtraTreeRegressor                           0.96       0.96   3.96   \n",
      "AdaBoostRegressor                            0.96       0.96   4.03   \n",
      "KNeighborsRegressor                          0.83       0.84   8.39   \n",
      "HistGradientBoostingRegressor                0.80       0.81   9.12   \n",
      "LGBMRegressor                                0.79       0.81   9.26   \n",
      "PoissonRegressor                             0.62       0.65  12.55   \n",
      "OrthogonalMatchingPursuit                    0.47       0.51  14.82   \n",
      "Lasso                                        0.46       0.49  15.09   \n",
      "LarsCV                                       0.45       0.49  15.13   \n",
      "LassoLarsCV                                  0.45       0.49  15.13   \n",
      "LassoCV                                      0.45       0.49  15.15   \n",
      "LassoLarsIC                                  0.45       0.49  15.18   \n",
      "RidgeCV                                      0.44       0.48  15.24   \n",
      "ElasticNetCV                                 0.44       0.48  15.25   \n",
      "BayesianRidge                                0.44       0.48  15.27   \n",
      "Ridge                                        0.44       0.48  15.28   \n",
      "LinearRegression                             0.44       0.48  15.28   \n",
      "TransformedTargetRegressor                   0.44       0.48  15.28   \n",
      "Lars                                         0.44       0.48  15.28   \n",
      "SGDRegressor                                 0.44       0.48  15.29   \n",
      "OrthogonalMatchingPursuitCV                  0.44       0.48  15.30   \n",
      "ElasticNet                                   0.39       0.43  15.94   \n",
      "TweedieRegressor                             0.32       0.37  16.85   \n",
      "SVR                                          0.30       0.35  17.10   \n",
      "NuSVR                                        0.26       0.31  17.59   \n",
      "LassoLars                                    0.02       0.08  20.25   \n",
      "PassiveAggressiveRegressor                  -0.08      -0.01  21.29   \n",
      "HuberRegressor                              -0.09      -0.02  21.32   \n",
      "DummyRegressor                              -0.09      -0.02  21.33   \n",
      "RANSACRegressor                             -0.09      -0.02  21.39   \n",
      "QuantileRegressor                           -0.09      -0.02  21.40   \n",
      "LinearSVR                                   -0.10      -0.03  21.42   \n",
      "MLPRegressor                                -6.48      -5.99  55.94   \n",
      "KernelRidge                                -16.98     -15.80  86.72   \n",
      "GaussianProcessRegressor                  -169.51    -158.33 267.02   \n",
      "\n",
      "                               Time Taken  \n",
      "Model                                      \n",
      "ExtraTreesRegressor                  0.12  \n",
      "XGBRegressor                         0.18  \n",
      "DecisionTreeRegressor                0.01  \n",
      "GradientBoostingRegressor            0.04  \n",
      "BaggingRegressor                     0.02  \n",
      "RandomForestRegressor                0.22  \n",
      "ExtraTreeRegressor                   0.02  \n",
      "AdaBoostRegressor                    0.08  \n",
      "KNeighborsRegressor                  0.02  \n",
      "HistGradientBoostingRegressor        0.27  \n",
      "LGBMRegressor                        0.06  \n",
      "PoissonRegressor                     0.01  \n",
      "OrthogonalMatchingPursuit            0.01  \n",
      "Lasso                                0.01  \n",
      "LarsCV                               0.03  \n",
      "LassoLarsCV                          0.02  \n",
      "LassoCV                              0.08  \n",
      "LassoLarsIC                          0.01  \n",
      "RidgeCV                              0.01  \n",
      "ElasticNetCV                         0.05  \n",
      "BayesianRidge                        0.01  \n",
      "Ridge                                0.01  \n",
      "LinearRegression                     0.01  \n",
      "TransformedTargetRegressor           0.01  \n",
      "Lars                                 0.01  \n",
      "SGDRegressor                         0.01  \n",
      "OrthogonalMatchingPursuitCV          0.01  \n",
      "ElasticNet                           0.01  \n",
      "TweedieRegressor                     0.01  \n",
      "SVR                                  0.02  \n",
      "NuSVR                                0.01  \n",
      "LassoLars                            0.01  \n",
      "PassiveAggressiveRegressor           0.01  \n",
      "HuberRegressor                       0.04  \n",
      "DummyRegressor                       0.01  \n",
      "RANSACRegressor                      0.01  \n",
      "QuantileRegressor                    0.50  \n",
      "LinearSVR                            0.01  \n",
      "MLPRegressor                         0.36  \n",
      "KernelRidge                          0.02  \n",
      "GaussianProcessRegressor             0.01  \n"
     ]
    },
    {
     "name": "stderr",
     "output_type": "stream",
     "text": [
      "\n"
     ]
    }
   ],
   "source": [
    "#logistics\n",
    "from lazypredict.Supervised import LazyRegressor\n",
    "from sklearn.utils import shuffle\n",
    "\n",
    "A = A.astype(np.float32)\n",
    "\n",
    "\n",
    "reg = LazyRegressor(verbose=0, ignore_warnings=False, custom_metric=None)\n",
    "models, predictions = reg.fit(A_train, A_test, b_train, b_test)\n",
    "\n",
    "print(models)\n"
   ]
  },
  {
   "cell_type": "code",
   "execution_count": null,
   "id": "8cca8b28",
   "metadata": {},
   "outputs": [],
   "source": []
  },
  {
   "cell_type": "code",
   "execution_count": null,
   "id": "a0f65051",
   "metadata": {},
   "outputs": [],
   "source": []
  },
  {
   "cell_type": "code",
   "execution_count": null,
   "id": "deab1768",
   "metadata": {},
   "outputs": [],
   "source": []
  }
 ],
 "metadata": {
  "kernelspec": {
   "display_name": "Python 3 (ipykernel)",
   "language": "python",
   "name": "python3"
  },
  "language_info": {
   "codemirror_mode": {
    "name": "ipython",
    "version": 3
   },
   "file_extension": ".py",
   "mimetype": "text/x-python",
   "name": "python",
   "nbconvert_exporter": "python",
   "pygments_lexer": "ipython3",
   "version": "3.9.7"
  }
 },
 "nbformat": 4,
 "nbformat_minor": 5
}
